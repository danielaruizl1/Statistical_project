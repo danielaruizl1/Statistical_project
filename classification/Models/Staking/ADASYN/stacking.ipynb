{
  "nbformat": 4,
  "nbformat_minor": 0,
  "metadata": {
    "colab": {
      "provenance": []
    },
    "kernelspec": {
      "name": "python3",
      "display_name": "Python 3"
    },
    "language_info": {
      "name": "python"
    }
  },
  "cells": [
    {
      "cell_type": "code",
      "execution_count": null,
      "metadata": {
        "id": "BFKNR2Cdqyfc"
      },
      "outputs": [],
      "source": [
        "!pip install optuna\n",
        "!pip install boruta"
      ]
    },
    {
      "cell_type": "code",
      "source": [
        "import pandas as pd\n",
        "from sklearn.model_selection import train_test_split\n",
        "from sklearn.ensemble import StackingClassifier, RandomForestClassifier, GradientBoostingClassifier\n",
        "from sklearn.model_selection import cross_val_score, StratifiedKFold\n",
        "from sklearn.metrics import roc_auc_score\n",
        "from imblearn.over_sampling import ADASYN\n",
        "from boruta import BorutaPy\n",
        "import optuna\n",
        "import joblib\n",
        "\n",
        "# Read data\n",
        "data = pd.read_excel('TrainClass.xlsx')\n",
        "real_data = pd.read_excel('TestClass.xlsx')\n",
        "\n",
        "# Split data\n",
        "Y, X = data['FRACASO'], data.drop(['FRACASO', 'CODIGO_EMPRESA'], axis=1)\n",
        "\n",
        "# Apply ADASYN\n",
        "adasyn = ADASYN(random_state=0)\n",
        "X_resampled, Y_resampled = adasyn.fit_resample(X, Y)\n",
        "\n",
        "# Apply Boruta for feature selection\n",
        "rf = RandomForestClassifier(n_estimators=100, max_depth=5, class_weight='balanced', random_state=0)\n",
        "boruta_selector = BorutaPy(rf, n_estimators='auto', verbose=2, random_state=0)\n",
        "boruta_selector.fit(X_resampled.values, Y_resampled.values)\n",
        "\n",
        "# Get selected features\n",
        "selected_features = X_resampled.columns[boruta_selector.support_]\n",
        "\n",
        "# Use only the selected features\n",
        "X_resampled_selected = X_resampled[selected_features]\n",
        "X_train, X_test, Y_train, Y_test = train_test_split(X_resampled_selected, Y_resampled, test_size=0.2, random_state=0)\n",
        "\n",
        "X = real_data.drop(['CODIGO_EMPRESA'], axis=1)\n",
        "\n",
        "# Define the objective function for StackingClassifier\n",
        "def stacking_objective(trial):\n",
        "    # Define hyperparameters for RandomForestClassifier\n",
        "    rf_n_estimators = trial.suggest_int('rf_n_estimators', 10, 500)\n",
        "    rf_max_depth = trial.suggest_int('rf_max_depth', 1, 50)\n",
        "\n",
        "    # Define hyperparameters for GradientBoostingClassifier\n",
        "    gb_n_estimators = trial.suggest_int('gb_n_estimators', 10, 500)\n",
        "    gb_learning_rate = trial.suggest_float('gb_learning_rate', 0.001, 0.1)\n",
        "    gb_max_depth = trial.suggest_int('gb_max_depth', 1, 50)\n",
        "\n",
        "    # Create the base classifiers with suggested hyperparameters\n",
        "    rf_classifier = RandomForestClassifier(n_estimators=rf_n_estimators, max_depth=rf_max_depth, random_state=0)\n",
        "    gb_classifier = GradientBoostingClassifier(n_estimators=gb_n_estimators, learning_rate=gb_learning_rate, max_depth=gb_max_depth, random_state=0)\n",
        "\n",
        "    # Create the stacking classifier with the base classifiers\n",
        "    stacking_classifier = StackingClassifier(\n",
        "        estimators=[('random_forest', rf_classifier), ('gradient_boosting', gb_classifier)],\n",
        "        final_estimator=RandomForestClassifier(random_state=0)  # You can choose a different final estimator if needed\n",
        "    )\n",
        "\n",
        "    # Define cross-validation strategy (StratifiedKFold for classification)\n",
        "    cv = StratifiedKFold(n_splits=5, shuffle=True, random_state=0)\n",
        "\n",
        "    # Perform cross-validation and get mean AUC\n",
        "    auc_scores = cross_val_score(stacking_classifier, X_train, Y_train, cv=cv, scoring='roc_auc')\n",
        "    mean_auc = auc_scores.mean()\n",
        "\n",
        "    return mean_auc\n",
        "\n",
        "# Create a study object and optimize the objective function\n",
        "study = optuna.create_study(direction='maximize')\n",
        "study.optimize(stacking_objective, n_trials=5)\n",
        "\n",
        "# Get the best hyperparameters\n",
        "best_params = study.best_params\n",
        "print(f'Best Hyperparameters for StackingClassifier: {best_params}')\n",
        "\n",
        "# Create the stacking classifier with the best hyperparameters\n",
        "rf_classifier = RandomForestClassifier(n_estimators=best_params['rf_n_estimators'], max_depth=best_params['rf_max_depth'], random_state=0)\n",
        "gb_classifier = GradientBoostingClassifier(n_estimators=best_params['gb_n_estimators'], learning_rate=best_params['gb_learning_rate'], max_depth=best_params['gb_max_depth'], random_state=0)\n",
        "\n",
        "stacking_classifier = StackingClassifier(\n",
        "    estimators=[('random_forest', rf_classifier), ('gradient_boosting', gb_classifier)],\n",
        "    final_estimator=RandomForestClassifier(random_state=0)  # You can choose a different final estimator if needed\n",
        ")\n",
        "\n",
        "# Train the stacking classifier\n",
        "stacking_classifier.fit(X_train, Y_train)\n",
        "\n",
        "# Predictions on training set\n",
        "y_pred_train = stacking_classifier.predict(X_train)\n",
        "\n",
        "# Calculate AUC for training set\n",
        "auc_train = roc_auc_score(Y_train, y_pred_train)\n",
        "print(f'AUC for Training Set: {auc_train:.4f}')\n",
        "\n",
        "# Predictions on testing set\n",
        "y_pred_test = stacking_classifier.predict(X_test)\n",
        "\n",
        "# Calculate AUC for testing set\n",
        "auc_test = roc_auc_score(Y_test, y_pred_test)\n",
        "print(f'AUC for Testing Set: {auc_test:.4f}')\n",
        "\n",
        "# Save the trained model to a file\n",
        "joblib.dump(stacking_classifier, 'stacking_model.joblib')\n",
        "\n",
        "# Load model and generate probability CSV\n",
        "loaded_model = joblib.load('stacking_model.joblib')\n",
        "prob = loaded_model.predict_proba(X)[:, 1]\n",
        "prob_df = pd.DataFrame(prob, columns=['Probability'])\n",
        "prob_df.index = prob_df.index + 1\n",
        "prob_df.index.name = 'Id'\n",
        "prob_df.to_csv('intento.csv', index=True)\n"
      ],
      "metadata": {
        "colab": {
          "base_uri": "https://localhost:8080/"
        },
        "id": "0pujT-Eqqz4A",
        "outputId": "a87ae4c1-8b64-4e36-824f-5bef5605e1ce"
      },
      "execution_count": 5,
      "outputs": [
        {
          "output_type": "stream",
          "name": "stdout",
          "text": [
            "Iteration: \t1 / 100\n",
            "Confirmed: \t0\n",
            "Tentative: \t40\n",
            "Rejected: \t0\n",
            "Iteration: \t2 / 100\n",
            "Confirmed: \t0\n",
            "Tentative: \t40\n",
            "Rejected: \t0\n",
            "Iteration: \t3 / 100\n",
            "Confirmed: \t0\n",
            "Tentative: \t40\n",
            "Rejected: \t0\n",
            "Iteration: \t4 / 100\n",
            "Confirmed: \t0\n",
            "Tentative: \t40\n",
            "Rejected: \t0\n",
            "Iteration: \t5 / 100\n",
            "Confirmed: \t0\n",
            "Tentative: \t40\n",
            "Rejected: \t0\n",
            "Iteration: \t6 / 100\n",
            "Confirmed: \t0\n",
            "Tentative: \t40\n",
            "Rejected: \t0\n",
            "Iteration: \t7 / 100\n",
            "Confirmed: \t0\n",
            "Tentative: \t40\n",
            "Rejected: \t0\n"
          ]
        },
        {
          "output_type": "stream",
          "name": "stderr",
          "text": [
            "[I 2023-12-05 17:04:45,056] A new study created in memory with name: no-name-7023aa3a-6466-4f37-a06d-084f1336f2fa\n"
          ]
        },
        {
          "output_type": "stream",
          "name": "stdout",
          "text": [
            "Iteration: \t8 / 100\n",
            "Confirmed: \t40\n",
            "Tentative: \t0\n",
            "Rejected: \t0\n",
            "\n",
            "\n",
            "BorutaPy finished running.\n",
            "\n",
            "Iteration: \t9 / 100\n",
            "Confirmed: \t40\n",
            "Tentative: \t0\n",
            "Rejected: \t0\n"
          ]
        },
        {
          "output_type": "stream",
          "name": "stderr",
          "text": [
            "[I 2023-12-05 17:12:15,026] Trial 0 finished with value: 0.9916897051832597 and parameters: {'rf_n_estimators': 29, 'rf_max_depth': 26, 'gb_n_estimators': 438, 'gb_learning_rate': 0.09517065145887017, 'gb_max_depth': 37}. Best is trial 0 with value: 0.9916897051832597.\n",
            "[I 2023-12-05 17:22:58,409] Trial 1 finished with value: 0.9830172480861148 and parameters: {'rf_n_estimators': 473, 'rf_max_depth': 9, 'gb_n_estimators': 409, 'gb_learning_rate': 0.08252905954878653, 'gb_max_depth': 49}. Best is trial 0 with value: 0.9916897051832597.\n",
            "[I 2023-12-05 17:38:07,251] Trial 2 finished with value: 0.9899224584397247 and parameters: {'rf_n_estimators': 492, 'rf_max_depth': 19, 'gb_n_estimators': 317, 'gb_learning_rate': 0.030938403652109026, 'gb_max_depth': 48}. Best is trial 0 with value: 0.9916897051832597.\n",
            "[I 2023-12-05 17:54:11,379] Trial 3 finished with value: 0.9940575579280294 and parameters: {'rf_n_estimators': 454, 'rf_max_depth': 30, 'gb_n_estimators': 457, 'gb_learning_rate': 0.050300271823392376, 'gb_max_depth': 25}. Best is trial 3 with value: 0.9940575579280294.\n",
            "[I 2023-12-05 17:58:28,440] Trial 4 finished with value: 0.9903584876938469 and parameters: {'rf_n_estimators': 38, 'rf_max_depth': 32, 'gb_n_estimators': 103, 'gb_learning_rate': 0.07964194046268214, 'gb_max_depth': 31}. Best is trial 3 with value: 0.9940575579280294.\n"
          ]
        },
        {
          "output_type": "stream",
          "name": "stdout",
          "text": [
            "Best Hyperparameters for StackingClassifier: {'rf_n_estimators': 454, 'rf_max_depth': 30, 'gb_n_estimators': 457, 'gb_learning_rate': 0.050300271823392376, 'gb_max_depth': 25}\n",
            "AUC for Training Set: 1.0000\n",
            "AUC for Testing Set: 0.9698\n"
          ]
        }
      ]
    }
  ]
}