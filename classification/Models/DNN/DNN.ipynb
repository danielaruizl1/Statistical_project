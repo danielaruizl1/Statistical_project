{
  "nbformat": 4,
  "nbformat_minor": 0,
  "metadata": {
    "colab": {
      "provenance": []
    },
    "kernelspec": {
      "name": "python3",
      "display_name": "Python 3"
    },
    "language_info": {
      "name": "python"
    }
  },
  "cells": [
    {
      "cell_type": "code",
      "execution_count": null,
      "metadata": {
        "id": "8CH5m_CXj3Ym"
      },
      "outputs": [],
      "source": [
        "!pip install optuna"
      ]
    },
    {
      "cell_type": "code",
      "source": [
        "import optuna\n",
        "import numpy as np\n",
        "import pandas as pd\n",
        "from sklearn.model_selection import StratifiedKFold, train_test_split\n",
        "from sklearn.metrics import roc_auc_score\n",
        "from sklearn.preprocessing import StandardScaler\n",
        "from tensorflow.keras.models import Sequential\n",
        "from tensorflow.keras.layers import Dense\n",
        "from tensorflow.keras.optimizers import Adam\n",
        "from tensorflow.keras.models import load_model\n",
        "import joblib\n",
        "\n",
        "# Read data\n",
        "data = pd.read_excel('TrainClass.xlsx')\n",
        "real_data = pd.read_excel('TestClass.xlsx')\n",
        "\n",
        "# Prepare training data\n",
        "Y, X = data['FRACASO'], data.drop(['FRACASO', 'CODIGO_EMPRESA'], axis=1)\n",
        "X_train, X_test, Y_train, Y_test = train_test_split(X, Y, test_size=0.2, random_state=0)\n",
        "\n",
        "# Standardize the data\n",
        "scaler = StandardScaler()\n",
        "X_train = scaler.fit_transform(X_train)\n",
        "X_test = scaler.transform(X_test)\n",
        "\n",
        "# Prepare testing data\n",
        "X_real = real_data.drop(['CODIGO_EMPRESA'], axis=1)\n",
        "X_real_selected = scaler.transform(X_real)  # Assuming X_real_selected is used for prediction\n",
        "\n",
        "# Define the objective function for Optuna\n",
        "def objective(trial):\n",
        "    # Define hyperparameters to be optimized\n",
        "    learning_rate = trial.suggest_float('learning_rate', 1e-5, 1e-2, log=True)\n",
        "    dropout_rate = trial.suggest_float('dropout_rate', 0.0, 0.5)\n",
        "\n",
        "    # Number of layers\n",
        "    num_layers = trial.suggest_int('num_layers', 1, 5)\n",
        "\n",
        "    # Number of nodes in each layer\n",
        "    nodes_per_layer = [trial.suggest_int(f'n_nodes_layer_{i}', 8, 128) for i in range(num_layers)]\n",
        "\n",
        "    # Build the neural network model\n",
        "    model = Sequential()\n",
        "    model.add(Dense(units=nodes_per_layer[0], activation='relu', input_dim=40))\n",
        "    for i in range(1, num_layers):\n",
        "        model.add(Dense(units=nodes_per_layer[i], activation='relu'))\n",
        "    model.add(Dense(units=1, activation='sigmoid'))\n",
        "\n",
        "    # Compile the model\n",
        "    optimizer = Adam(learning_rate=learning_rate)\n",
        "    model.compile(optimizer=optimizer, loss='binary_crossentropy', metrics=['accuracy'])\n",
        "\n",
        "    # Train the model with cross-validation\n",
        "    kfold = StratifiedKFold(n_splits=5, shuffle=True, random_state=0)\n",
        "    cv_scores = []\n",
        "    for train, val in kfold.split(X_train, Y_train):\n",
        "        X_train_fold, X_val_fold = X_train[train], X_train[val]\n",
        "        Y_train_fold, Y_val_fold = Y_train.iloc[train], Y_train.iloc[val]\n",
        "\n",
        "        model.fit(X_train_fold, Y_train_fold, epochs=10, batch_size=32, validation_data=(X_val_fold, Y_val_fold), verbose=0)\n",
        "\n",
        "        Y_val_pred = model.predict(X_val_fold)\n",
        "        auc = roc_auc_score(Y_val_fold, Y_val_pred)\n",
        "        cv_scores.append(auc)\n",
        "\n",
        "    # Return the average AUC over folds as the objective value for Optuna\n",
        "    return np.mean(cv_scores)\n",
        "\n",
        "# Optimize hyperparameters with Optuna\n",
        "study = optuna.create_study(direction='maximize')\n",
        "study.optimize(objective, n_trials=150)\n",
        "\n",
        "# Get the best hyperparameters\n",
        "best_params = study.best_params\n",
        "best_learning_rate = best_params['learning_rate']\n",
        "best_dropout_rate = best_params['dropout_rate']\n",
        "best_num_layers = best_params['num_layers']\n",
        "best_nodes_per_layer = [best_params[f'n_nodes_layer_{i}'] for i in range(best_num_layers)]\n",
        "\n",
        "# Build the final model with the best hyperparameters\n",
        "final_model = Sequential()\n",
        "final_model.add(Dense(units=best_nodes_per_layer[0], activation='relu', input_dim=40))\n",
        "for i in range(1, best_num_layers):\n",
        "    final_model.add(Dense(units=best_nodes_per_layer[i], activation='relu'))\n",
        "final_model.add(Dense(units=1, activation='sigmoid'))\n",
        "final_model.compile(optimizer=Adam(learning_rate=best_learning_rate), loss='binary_crossentropy', metrics=['accuracy'])\n",
        "\n",
        "# Train the final model on the entire training set\n",
        "final_model.fit(X_train, Y_train, epochs=10, batch_size=32, verbose=1)\n",
        "\n",
        "# Save the trained model to a file\n",
        "final_model.save('neural_network_model.h5')\n",
        "\n",
        "# Load model and generate probability CSV\n",
        "loaded_model = load_model('neural_network_model.h5')\n",
        "prob = loaded_model.predict(X_real_selected)\n",
        "prob_df = pd.DataFrame(prob, columns=['Probability'])\n",
        "prob_df.index = prob_df.index + 1\n",
        "prob_df.index.name = 'Id'\n",
        "\n",
        "# Save probability CSV\n",
        "prob_df.to_csv('probability_predictions.csv')\n"
      ],
      "metadata": {
        "colab": {
          "base_uri": "https://localhost:8080/"
        },
        "id": "cD551jhNj328",
        "outputId": "850ccd1f-294e-4412-d1a4-a0014b9007ff"
      },
      "execution_count": 3,
      "outputs": [
        {
          "output_type": "stream",
          "name": "stderr",
          "text": [
            "[I 2023-12-05 20:00:07,735] A new study created in memory with name: no-name-0d53e505-42ce-4d09-8722-98da4f905914\n"
          ]
        },
        {
          "output_type": "stream",
          "name": "stdout",
          "text": [
            "9/9 [==============================] - 0s 2ms/step\n",
            "9/9 [==============================] - 0s 3ms/step\n",
            "9/9 [==============================] - 0s 2ms/step\n",
            "9/9 [==============================] - 0s 3ms/step\n",
            "9/9 [==============================] - 0s 2ms/step\n"
          ]
        },
        {
          "output_type": "stream",
          "name": "stderr",
          "text": [
            "[I 2023-12-05 20:00:18,574] Trial 0 finished with value: 0.8812158541941152 and parameters: {'learning_rate': 0.002157822963517337, 'dropout_rate': 0.0856976518730137, 'num_layers': 3, 'n_nodes_layer_0': 23, 'n_nodes_layer_1': 113, 'n_nodes_layer_2': 54}. Best is trial 0 with value: 0.8812158541941152.\n"
          ]
        },
        {
          "output_type": "stream",
          "name": "stdout",
          "text": [
            "9/9 [==============================] - 0s 2ms/step\n",
            "9/9 [==============================] - 0s 2ms/step\n",
            "9/9 [==============================] - 0s 2ms/step\n",
            "9/9 [==============================] - 0s 2ms/step\n",
            "9/9 [==============================] - 0s 2ms/step\n"
          ]
        },
        {
          "output_type": "stream",
          "name": "stderr",
          "text": [
            "[I 2023-12-05 20:00:26,743] Trial 1 finished with value: 0.32513680281071583 and parameters: {'learning_rate': 1.6941505256109662e-05, 'dropout_rate': 0.3964314923424408, 'num_layers': 4, 'n_nodes_layer_0': 72, 'n_nodes_layer_1': 66, 'n_nodes_layer_2': 57, 'n_nodes_layer_3': 39}. Best is trial 0 with value: 0.8812158541941152.\n"
          ]
        },
        {
          "output_type": "stream",
          "name": "stdout",
          "text": [
            "9/9 [==============================] - 0s 2ms/step\n",
            "9/9 [==============================] - 0s 2ms/step\n",
            "9/9 [==============================] - 0s 2ms/step\n",
            "9/9 [==============================] - 0s 3ms/step\n",
            "9/9 [==============================] - 0s 2ms/step\n"
          ]
        },
        {
          "output_type": "stream",
          "name": "stderr",
          "text": [
            "[I 2023-12-05 20:00:35,881] Trial 2 finished with value: 0.8407588932806325 and parameters: {'learning_rate': 0.002657744207511998, 'dropout_rate': 0.42890988172965544, 'num_layers': 1, 'n_nodes_layer_0': 69}. Best is trial 0 with value: 0.8812158541941152.\n"
          ]
        },
        {
          "output_type": "stream",
          "name": "stdout",
          "text": [
            "9/9 [==============================] - 0s 2ms/step\n",
            "9/9 [==============================] - 0s 2ms/step\n",
            "9/9 [==============================] - 0s 3ms/step\n",
            "9/9 [==============================] - 0s 3ms/step\n",
            "9/9 [==============================] - 0s 2ms/step\n"
          ]
        },
        {
          "output_type": "stream",
          "name": "stderr",
          "text": [
            "[I 2023-12-05 20:00:45,071] Trial 3 finished with value: 0.8021960913482651 and parameters: {'learning_rate': 0.0013999925842871595, 'dropout_rate': 0.08509194586443913, 'num_layers': 1, 'n_nodes_layer_0': 20}. Best is trial 0 with value: 0.8812158541941152.\n"
          ]
        },
        {
          "output_type": "stream",
          "name": "stdout",
          "text": [
            "9/9 [==============================] - 0s 2ms/step\n",
            "9/9 [==============================] - 0s 3ms/step\n",
            "9/9 [==============================] - 0s 4ms/step\n",
            "9/9 [==============================] - 0s 4ms/step\n",
            "9/9 [==============================] - 0s 2ms/step\n"
          ]
        },
        {
          "output_type": "stream",
          "name": "stderr",
          "text": [
            "[I 2023-12-05 20:00:58,540] Trial 4 finished with value: 0.8438607817303468 and parameters: {'learning_rate': 0.00012184560075788541, 'dropout_rate': 0.10551833778177516, 'num_layers': 5, 'n_nodes_layer_0': 67, 'n_nodes_layer_1': 20, 'n_nodes_layer_2': 94, 'n_nodes_layer_3': 127, 'n_nodes_layer_4': 87}. Best is trial 0 with value: 0.8812158541941152.\n"
          ]
        },
        {
          "output_type": "stream",
          "name": "stdout",
          "text": [
            "9/9 [==============================] - 0s 2ms/step\n",
            "9/9 [==============================] - 0s 2ms/step\n",
            "9/9 [==============================] - 0s 2ms/step\n",
            "9/9 [==============================] - 0s 3ms/step\n",
            "9/9 [==============================] - 0s 2ms/step\n"
          ]
        },
        {
          "output_type": "stream",
          "name": "stderr",
          "text": [
            "[I 2023-12-05 20:01:06,106] Trial 5 finished with value: 0.5193794466403162 and parameters: {'learning_rate': 1.3757153611711407e-05, 'dropout_rate': 0.4382288126113662, 'num_layers': 1, 'n_nodes_layer_0': 121}. Best is trial 0 with value: 0.8812158541941152.\n"
          ]
        },
        {
          "output_type": "stream",
          "name": "stdout",
          "text": [
            "9/9 [==============================] - 0s 2ms/step\n",
            "9/9 [==============================] - 0s 2ms/step\n",
            "9/9 [==============================] - 0s 2ms/step\n",
            "9/9 [==============================] - 0s 2ms/step\n",
            "9/9 [==============================] - 0s 2ms/step\n"
          ]
        },
        {
          "output_type": "stream",
          "name": "stderr",
          "text": [
            "[I 2023-12-05 20:01:15,637] Trial 6 finished with value: 0.8407848045674134 and parameters: {'learning_rate': 0.008699862729050066, 'dropout_rate': 0.19939641132982566, 'num_layers': 3, 'n_nodes_layer_0': 44, 'n_nodes_layer_1': 16, 'n_nodes_layer_2': 110}. Best is trial 0 with value: 0.8812158541941152.\n"
          ]
        },
        {
          "output_type": "stream",
          "name": "stdout",
          "text": [
            "9/9 [==============================] - 0s 2ms/step\n",
            "9/9 [==============================] - 0s 3ms/step\n",
            "9/9 [==============================] - 0s 3ms/step\n",
            "9/9 [==============================] - 0s 3ms/step\n",
            "9/9 [==============================] - 0s 3ms/step\n"
          ]
        },
        {
          "output_type": "stream",
          "name": "stderr",
          "text": [
            "[I 2023-12-05 20:01:25,345] Trial 7 finished with value: 0.324554457619675 and parameters: {'learning_rate': 1.3097545954016123e-05, 'dropout_rate': 0.11888303833918851, 'num_layers': 4, 'n_nodes_layer_0': 16, 'n_nodes_layer_1': 37, 'n_nodes_layer_2': 33, 'n_nodes_layer_3': 22}. Best is trial 0 with value: 0.8812158541941152.\n"
          ]
        },
        {
          "output_type": "stream",
          "name": "stdout",
          "text": [
            "9/9 [==============================] - 0s 3ms/step\n",
            "9/9 [==============================] - 0s 2ms/step\n",
            "9/9 [==============================] - 0s 2ms/step\n",
            "9/9 [==============================] - 0s 2ms/step\n",
            "9/9 [==============================] - 0s 3ms/step\n"
          ]
        },
        {
          "output_type": "stream",
          "name": "stderr",
          "text": [
            "[I 2023-12-05 20:01:37,287] Trial 8 finished with value: 0.7529332454984629 and parameters: {'learning_rate': 9.461218150074054e-05, 'dropout_rate': 0.2693847497564079, 'num_layers': 3, 'n_nodes_layer_0': 100, 'n_nodes_layer_1': 127, 'n_nodes_layer_2': 50}. Best is trial 0 with value: 0.8812158541941152.\n"
          ]
        },
        {
          "output_type": "stream",
          "name": "stdout",
          "text": [
            "9/9 [==============================] - 0s 2ms/step\n",
            "9/9 [==============================] - 0s 3ms/step\n",
            "9/9 [==============================] - 0s 2ms/step\n",
            "9/9 [==============================] - 0s 2ms/step\n",
            "9/9 [==============================] - 0s 2ms/step\n"
          ]
        },
        {
          "output_type": "stream",
          "name": "stderr",
          "text": [
            "[I 2023-12-05 20:01:45,821] Trial 9 finished with value: 0.8696930171277998 and parameters: {'learning_rate': 0.0008931988038566699, 'dropout_rate': 0.3784545307413751, 'num_layers': 3, 'n_nodes_layer_0': 94, 'n_nodes_layer_1': 48, 'n_nodes_layer_2': 119}. Best is trial 0 with value: 0.8812158541941152.\n"
          ]
        },
        {
          "output_type": "stream",
          "name": "stdout",
          "text": [
            "9/9 [==============================] - 0s 2ms/step\n",
            "9/9 [==============================] - 0s 3ms/step\n",
            "9/9 [==============================] - 0s 2ms/step\n",
            "9/9 [==============================] - 0s 2ms/step\n",
            "9/9 [==============================] - 0s 3ms/step\n"
          ]
        },
        {
          "output_type": "stream",
          "name": "stderr",
          "text": [
            "[I 2023-12-05 20:01:55,373] Trial 10 finished with value: 0.8687463768115942 and parameters: {'learning_rate': 0.005695349163965891, 'dropout_rate': 0.023659871883355575, 'num_layers': 2, 'n_nodes_layer_0': 39, 'n_nodes_layer_1': 116}. Best is trial 0 with value: 0.8812158541941152.\n"
          ]
        },
        {
          "output_type": "stream",
          "name": "stdout",
          "text": [
            "9/9 [==============================] - 0s 2ms/step\n",
            "9/9 [==============================] - 0s 2ms/step\n",
            "9/9 [==============================] - 0s 2ms/step\n",
            "9/9 [==============================] - 0s 3ms/step\n",
            "9/9 [==============================] - 0s 3ms/step\n"
          ]
        },
        {
          "output_type": "stream",
          "name": "stderr",
          "text": [
            "[I 2023-12-05 20:02:04,874] Trial 11 finished with value: 0.849839042599912 and parameters: {'learning_rate': 0.0006689051936958168, 'dropout_rate': 0.32243097986328517, 'num_layers': 2, 'n_nodes_layer_0': 94, 'n_nodes_layer_1': 82}. Best is trial 0 with value: 0.8812158541941152.\n"
          ]
        },
        {
          "output_type": "stream",
          "name": "stdout",
          "text": [
            "9/9 [==============================] - 0s 2ms/step\n",
            "9/9 [==============================] - 0s 2ms/step\n",
            "9/9 [==============================] - 0s 2ms/step\n",
            "9/9 [==============================] - 0s 2ms/step\n",
            "9/9 [==============================] - 0s 3ms/step\n"
          ]
        },
        {
          "output_type": "stream",
          "name": "stderr",
          "text": [
            "[I 2023-12-05 20:02:14,611] Trial 12 finished with value: 0.8864062362758014 and parameters: {'learning_rate': 0.0007766084528169735, 'dropout_rate': 0.33565677545360206, 'num_layers': 4, 'n_nodes_layer_0': 94, 'n_nodes_layer_1': 62, 'n_nodes_layer_2': 12, 'n_nodes_layer_3': 101}. Best is trial 12 with value: 0.8864062362758014.\n"
          ]
        },
        {
          "output_type": "stream",
          "name": "stdout",
          "text": [
            "9/9 [==============================] - 0s 3ms/step\n",
            "9/9 [==============================] - 0s 2ms/step\n",
            "9/9 [==============================] - 0s 3ms/step\n",
            "9/9 [==============================] - 0s 3ms/step\n",
            "9/9 [==============================] - 0s 2ms/step\n"
          ]
        },
        {
          "output_type": "stream",
          "name": "stderr",
          "text": [
            "[I 2023-12-05 20:02:24,734] Trial 13 finished with value: 0.8970287659200702 and parameters: {'learning_rate': 0.0023999930315355016, 'dropout_rate': 0.21326145816887107, 'num_layers': 5, 'n_nodes_layer_0': 128, 'n_nodes_layer_1': 99, 'n_nodes_layer_2': 11, 'n_nodes_layer_3': 105, 'n_nodes_layer_4': 10}. Best is trial 13 with value: 0.8970287659200702.\n"
          ]
        },
        {
          "output_type": "stream",
          "name": "stdout",
          "text": [
            "9/9 [==============================] - 0s 2ms/step\n",
            "9/9 [==============================] - 0s 3ms/step\n",
            "9/9 [==============================] - 0s 2ms/step\n",
            "9/9 [==============================] - 0s 2ms/step\n",
            "9/9 [==============================] - 0s 2ms/step\n"
          ]
        },
        {
          "output_type": "stream",
          "name": "stderr",
          "text": [
            "[I 2023-12-05 20:02:37,494] Trial 14 finished with value: 0.8323579270970576 and parameters: {'learning_rate': 0.00040475765200166663, 'dropout_rate': 0.2340495685301163, 'num_layers': 5, 'n_nodes_layer_0': 125, 'n_nodes_layer_1': 90, 'n_nodes_layer_2': 12, 'n_nodes_layer_3': 104, 'n_nodes_layer_4': 9}. Best is trial 13 with value: 0.8970287659200702.\n"
          ]
        },
        {
          "output_type": "stream",
          "name": "stdout",
          "text": [
            "9/9 [==============================] - 0s 2ms/step\n",
            "9/9 [==============================] - 0s 3ms/step\n",
            "9/9 [==============================] - 0s 3ms/step\n",
            "9/9 [==============================] - 0s 2ms/step\n",
            "9/9 [==============================] - 0s 3ms/step\n"
          ]
        },
        {
          "output_type": "stream",
          "name": "stderr",
          "text": [
            "[I 2023-12-05 20:02:48,854] Trial 15 finished with value: 0.8909426877470356 and parameters: {'learning_rate': 0.0036980766623527506, 'dropout_rate': 0.31892593811341785, 'num_layers': 4, 'n_nodes_layer_0': 110, 'n_nodes_layer_1': 88, 'n_nodes_layer_2': 8, 'n_nodes_layer_3': 83}. Best is trial 13 with value: 0.8970287659200702.\n"
          ]
        },
        {
          "output_type": "stream",
          "name": "stdout",
          "text": [
            "9/9 [==============================] - 0s 2ms/step\n",
            "9/9 [==============================] - 0s 2ms/step\n",
            "9/9 [==============================] - 0s 2ms/step\n",
            "9/9 [==============================] - 0s 3ms/step\n",
            "9/9 [==============================] - 0s 3ms/step\n"
          ]
        },
        {
          "output_type": "stream",
          "name": "stderr",
          "text": [
            "[I 2023-12-05 20:02:58,547] Trial 16 finished with value: 0.8917758014931927 and parameters: {'learning_rate': 0.004041401784734119, 'dropout_rate': 0.49946678950428636, 'num_layers': 5, 'n_nodes_layer_0': 112, 'n_nodes_layer_1': 97, 'n_nodes_layer_2': 27, 'n_nodes_layer_3': 72, 'n_nodes_layer_4': 10}. Best is trial 13 with value: 0.8970287659200702.\n"
          ]
        },
        {
          "output_type": "stream",
          "name": "stdout",
          "text": [
            "9/9 [==============================] - 0s 2ms/step\n",
            "9/9 [==============================] - 0s 3ms/step\n",
            "9/9 [==============================] - 0s 2ms/step\n",
            "9/9 [==============================] - 0s 3ms/step\n",
            "9/9 [==============================] - 0s 2ms/step\n"
          ]
        },
        {
          "output_type": "stream",
          "name": "stderr",
          "text": [
            "[I 2023-12-05 20:03:09,113] Trial 17 finished with value: 0.8865613746157225 and parameters: {'learning_rate': 0.007423361924469958, 'dropout_rate': 0.4748258497112866, 'num_layers': 5, 'n_nodes_layer_0': 126, 'n_nodes_layer_1': 102, 'n_nodes_layer_2': 32, 'n_nodes_layer_3': 68, 'n_nodes_layer_4': 8}. Best is trial 13 with value: 0.8970287659200702.\n"
          ]
        },
        {
          "output_type": "stream",
          "name": "stdout",
          "text": [
            "9/9 [==============================] - 0s 3ms/step\n",
            "9/9 [==============================] - 0s 2ms/step\n",
            "9/9 [==============================] - 0s 2ms/step\n",
            "9/9 [==============================] - 0s 2ms/step\n",
            "9/9 [==============================] - 0s 2ms/step\n"
          ]
        },
        {
          "output_type": "stream",
          "name": "stderr",
          "text": [
            "[I 2023-12-05 20:03:20,814] Trial 18 finished with value: 0.8639965963987702 and parameters: {'learning_rate': 0.0037303878299133095, 'dropout_rate': 0.4983534014979599, 'num_layers': 5, 'n_nodes_layer_0': 111, 'n_nodes_layer_1': 101, 'n_nodes_layer_2': 80, 'n_nodes_layer_3': 59, 'n_nodes_layer_4': 41}. Best is trial 13 with value: 0.8970287659200702.\n"
          ]
        },
        {
          "output_type": "stream",
          "name": "stdout",
          "text": [
            "9/9 [==============================] - 0s 3ms/step\n",
            "9/9 [==============================] - 0s 3ms/step\n",
            "9/9 [==============================] - 0s 2ms/step\n",
            "9/9 [==============================] - 0s 2ms/step\n",
            "9/9 [==============================] - 0s 3ms/step\n"
          ]
        },
        {
          "output_type": "stream",
          "name": "stderr",
          "text": [
            "[I 2023-12-05 20:03:33,433] Trial 19 finished with value: 0.8906886253842774 and parameters: {'learning_rate': 0.0018753725221137807, 'dropout_rate': 0.1803452826947446, 'num_layers': 5, 'n_nodes_layer_0': 82, 'n_nodes_layer_1': 80, 'n_nodes_layer_2': 32, 'n_nodes_layer_3': 93, 'n_nodes_layer_4': 122}. Best is trial 13 with value: 0.8970287659200702.\n"
          ]
        },
        {
          "output_type": "stream",
          "name": "stdout",
          "text": [
            "9/9 [==============================] - 0s 2ms/step\n",
            "9/9 [==============================] - 0s 2ms/step\n",
            "9/9 [==============================] - 0s 3ms/step\n",
            "9/9 [==============================] - 0s 2ms/step\n",
            "9/9 [==============================] - 0s 2ms/step\n"
          ]
        },
        {
          "output_type": "stream",
          "name": "stderr",
          "text": [
            "[I 2023-12-05 20:03:44,479] Trial 20 finished with value: 0.8309622310057092 and parameters: {'learning_rate': 0.009631602798089368, 'dropout_rate': 0.2407633683012886, 'num_layers': 4, 'n_nodes_layer_0': 111, 'n_nodes_layer_1': 99, 'n_nodes_layer_2': 22, 'n_nodes_layer_3': 128}. Best is trial 13 with value: 0.8970287659200702.\n"
          ]
        },
        {
          "output_type": "stream",
          "name": "stdout",
          "text": [
            "9/9 [==============================] - 0s 2ms/step\n",
            "9/9 [==============================] - 0s 3ms/step\n",
            "9/9 [==============================] - 0s 3ms/step\n",
            "9/9 [==============================] - 0s 4ms/step\n",
            "9/9 [==============================] - 0s 2ms/step\n"
          ]
        },
        {
          "output_type": "stream",
          "name": "stderr",
          "text": [
            "[I 2023-12-05 20:03:55,500] Trial 21 finished with value: 0.8421383399209486 and parameters: {'learning_rate': 0.004225144326625, 'dropout_rate': 0.30153494986967005, 'num_layers': 4, 'n_nodes_layer_0': 111, 'n_nodes_layer_1': 79, 'n_nodes_layer_2': 9, 'n_nodes_layer_3': 84}. Best is trial 13 with value: 0.8970287659200702.\n"
          ]
        },
        {
          "output_type": "stream",
          "name": "stdout",
          "text": [
            "9/9 [==============================] - 0s 3ms/step\n",
            "9/9 [==============================] - 0s 2ms/step\n",
            "9/9 [==============================] - 0s 2ms/step\n",
            "9/9 [==============================] - 0s 3ms/step\n",
            "9/9 [==============================] - 0s 3ms/step\n"
          ]
        },
        {
          "output_type": "stream",
          "name": "stderr",
          "text": [
            "[I 2023-12-05 20:04:06,803] Trial 22 finished with value: 0.9149670619235838 and parameters: {'learning_rate': 0.0036397977941230782, 'dropout_rate': 0.3724123409763549, 'num_layers': 5, 'n_nodes_layer_0': 108, 'n_nodes_layer_1': 92, 'n_nodes_layer_2': 24, 'n_nodes_layer_3': 72, 'n_nodes_layer_4': 36}. Best is trial 22 with value: 0.9149670619235838.\n"
          ]
        },
        {
          "output_type": "stream",
          "name": "stdout",
          "text": [
            "9/9 [==============================] - 0s 3ms/step\n",
            "9/9 [==============================] - 0s 3ms/step\n",
            "9/9 [==============================] - 0s 3ms/step\n",
            "9/9 [==============================] - 0s 2ms/step\n",
            "9/9 [==============================] - 0s 3ms/step\n"
          ]
        },
        {
          "output_type": "stream",
          "name": "stderr",
          "text": [
            "[I 2023-12-05 20:04:18,934] Trial 23 finished with value: 0.874403162055336 and parameters: {'learning_rate': 0.0015887194570650747, 'dropout_rate': 0.3698887448991254, 'num_layers': 5, 'n_nodes_layer_0': 128, 'n_nodes_layer_1': 113, 'n_nodes_layer_2': 36, 'n_nodes_layer_3': 52, 'n_nodes_layer_4': 32}. Best is trial 22 with value: 0.9149670619235838.\n"
          ]
        },
        {
          "output_type": "stream",
          "name": "stdout",
          "text": [
            "9/9 [==============================] - 0s 3ms/step\n",
            "9/9 [==============================] - 0s 3ms/step\n",
            "9/9 [==============================] - 0s 2ms/step\n",
            "9/9 [==============================] - 0s 3ms/step\n",
            "9/9 [==============================] - 0s 2ms/step\n"
          ]
        },
        {
          "output_type": "stream",
          "name": "stderr",
          "text": [
            "[I 2023-12-05 20:04:30,965] Trial 24 finished with value: 0.8485379885814668 and parameters: {'learning_rate': 0.004840760804653643, 'dropout_rate': 0.4490241033558965, 'num_layers': 5, 'n_nodes_layer_0': 103, 'n_nodes_layer_1': 97, 'n_nodes_layer_2': 43, 'n_nodes_layer_3': 74, 'n_nodes_layer_4': 36}. Best is trial 22 with value: 0.9149670619235838.\n"
          ]
        },
        {
          "output_type": "stream",
          "name": "stdout",
          "text": [
            "9/9 [==============================] - 0s 4ms/step\n",
            "9/9 [==============================] - 0s 2ms/step\n",
            "9/9 [==============================] - 0s 2ms/step\n",
            "9/9 [==============================] - 0s 2ms/step\n",
            "9/9 [==============================] - 0s 3ms/step\n"
          ]
        },
        {
          "output_type": "stream",
          "name": "stderr",
          "text": [
            "[I 2023-12-05 20:04:41,390] Trial 25 finished with value: 0.8520439174352219 and parameters: {'learning_rate': 0.0033204574591923944, 'dropout_rate': 0.4746570074062067, 'num_layers': 5, 'n_nodes_layer_0': 85, 'n_nodes_layer_1': 71, 'n_nodes_layer_2': 21, 'n_nodes_layer_3': 44, 'n_nodes_layer_4': 8}. Best is trial 22 with value: 0.9149670619235838.\n"
          ]
        },
        {
          "output_type": "stream",
          "name": "stdout",
          "text": [
            "9/9 [==============================] - 0s 3ms/step\n",
            "9/9 [==============================] - 0s 3ms/step\n",
            "9/9 [==============================] - 0s 2ms/step\n",
            "9/9 [==============================] - 0s 3ms/step\n",
            "9/9 [==============================] - 0s 3ms/step\n"
          ]
        },
        {
          "output_type": "stream",
          "name": "stderr",
          "text": [
            "[I 2023-12-05 20:04:53,934] Trial 26 finished with value: 0.8699964866051821 and parameters: {'learning_rate': 0.0024390549034845384, 'dropout_rate': 0.41087563091617607, 'num_layers': 4, 'n_nodes_layer_0': 118, 'n_nodes_layer_1': 123, 'n_nodes_layer_2': 66, 'n_nodes_layer_3': 114}. Best is trial 22 with value: 0.9149670619235838.\n"
          ]
        },
        {
          "output_type": "stream",
          "name": "stdout",
          "text": [
            "9/9 [==============================] - 0s 2ms/step\n",
            "9/9 [==============================] - 0s 2ms/step\n",
            "9/9 [==============================] - 0s 3ms/step\n",
            "9/9 [==============================] - 0s 3ms/step\n",
            "9/9 [==============================] - 0s 2ms/step\n"
          ]
        },
        {
          "output_type": "stream",
          "name": "stderr",
          "text": [
            "[I 2023-12-05 20:05:05,385] Trial 27 finished with value: 0.8189545454545455 and parameters: {'learning_rate': 0.0065197988990453905, 'dropout_rate': 0.37172690211438, 'num_layers': 5, 'n_nodes_layer_0': 56, 'n_nodes_layer_1': 107, 'n_nodes_layer_2': 22, 'n_nodes_layer_3': 67, 'n_nodes_layer_4': 59}. Best is trial 22 with value: 0.9149670619235838.\n"
          ]
        },
        {
          "output_type": "stream",
          "name": "stdout",
          "text": [
            "9/9 [==============================] - 0s 2ms/step\n",
            "9/9 [==============================] - 0s 2ms/step\n",
            "9/9 [==============================] - 0s 2ms/step\n",
            "9/9 [==============================] - 0s 3ms/step\n",
            "9/9 [==============================] - 0s 2ms/step\n"
          ]
        },
        {
          "output_type": "stream",
          "name": "stderr",
          "text": [
            "[I 2023-12-05 20:05:17,897] Trial 28 finished with value: 0.8778375054896793 and parameters: {'learning_rate': 0.001318525315658429, 'dropout_rate': 0.354341408292287, 'num_layers': 5, 'n_nodes_layer_0': 118, 'n_nodes_layer_1': 91, 'n_nodes_layer_2': 44, 'n_nodes_layer_3': 87, 'n_nodes_layer_4': 27}. Best is trial 22 with value: 0.9149670619235838.\n"
          ]
        },
        {
          "output_type": "stream",
          "name": "stdout",
          "text": [
            "9/9 [==============================] - 0s 2ms/step\n",
            "9/9 [==============================] - 0s 2ms/step\n",
            "9/9 [==============================] - 0s 2ms/step\n",
            "9/9 [==============================] - 0s 2ms/step\n",
            "9/9 [==============================] - 0s 2ms/step\n"
          ]
        },
        {
          "output_type": "stream",
          "name": "stderr",
          "text": [
            "[I 2023-12-05 20:05:25,668] Trial 29 finished with value: 0.8954925340360124 and parameters: {'learning_rate': 0.0024672192272685747, 'dropout_rate': 0.4094812938718385, 'num_layers': 2, 'n_nodes_layer_0': 84, 'n_nodes_layer_1': 54}. Best is trial 22 with value: 0.9149670619235838.\n"
          ]
        },
        {
          "output_type": "stream",
          "name": "stdout",
          "text": [
            "9/9 [==============================] - 0s 3ms/step\n",
            "9/9 [==============================] - 0s 2ms/step\n",
            "9/9 [==============================] - 0s 3ms/step\n",
            "9/9 [==============================] - 0s 2ms/step\n",
            "9/9 [==============================] - 0s 2ms/step\n"
          ]
        },
        {
          "output_type": "stream",
          "name": "stderr",
          "text": [
            "[I 2023-12-05 20:05:35,502] Trial 30 finished with value: 0.8492940272288099 and parameters: {'learning_rate': 0.002167578221178673, 'dropout_rate': 0.27618575653909727, 'num_layers': 2, 'n_nodes_layer_0': 79, 'n_nodes_layer_1': 59}. Best is trial 22 with value: 0.9149670619235838.\n"
          ]
        },
        {
          "output_type": "stream",
          "name": "stdout",
          "text": [
            "9/9 [==============================] - 0s 2ms/step\n",
            "9/9 [==============================] - 0s 2ms/step\n",
            "9/9 [==============================] - 0s 3ms/step\n",
            "9/9 [==============================] - 0s 3ms/step\n",
            "9/9 [==============================] - 0s 2ms/step\n"
          ]
        },
        {
          "output_type": "stream",
          "name": "stderr",
          "text": [
            "[I 2023-12-05 20:05:44,941] Trial 31 finished with value: 0.8738987703118137 and parameters: {'learning_rate': 0.0054148621208333836, 'dropout_rate': 0.41940467715796204, 'num_layers': 2, 'n_nodes_layer_0': 101, 'n_nodes_layer_1': 75}. Best is trial 22 with value: 0.9149670619235838.\n"
          ]
        },
        {
          "output_type": "stream",
          "name": "stdout",
          "text": [
            "9/9 [==============================] - 0s 2ms/step\n",
            "9/9 [==============================] - 0s 2ms/step\n",
            "9/9 [==============================] - 0s 3ms/step\n",
            "9/9 [==============================] - 0s 2ms/step\n",
            "9/9 [==============================] - 0s 3ms/step\n"
          ]
        },
        {
          "output_type": "stream",
          "name": "stderr",
          "text": [
            "[I 2023-12-05 20:05:54,462] Trial 32 finished with value: 0.8799826526130874 and parameters: {'learning_rate': 0.002652825034819731, 'dropout_rate': 0.4645005175397926, 'num_layers': 3, 'n_nodes_layer_0': 90, 'n_nodes_layer_1': 50, 'n_nodes_layer_2': 23}. Best is trial 22 with value: 0.9149670619235838.\n"
          ]
        },
        {
          "output_type": "stream",
          "name": "stdout",
          "text": [
            "9/9 [==============================] - 0s 2ms/step\n",
            "9/9 [==============================] - 0s 2ms/step\n",
            "9/9 [==============================] - 0s 2ms/step\n",
            "9/9 [==============================] - 0s 3ms/step\n",
            "9/9 [==============================] - 0s 2ms/step\n"
          ]
        },
        {
          "output_type": "stream",
          "name": "stderr",
          "text": [
            "[I 2023-12-05 20:06:04,016] Trial 33 finished with value: 0.8657037768994291 and parameters: {'learning_rate': 0.0028268612265429766, 'dropout_rate': 0.3895923808194385, 'num_layers': 2, 'n_nodes_layer_0': 106, 'n_nodes_layer_1': 35}. Best is trial 22 with value: 0.9149670619235838.\n"
          ]
        },
        {
          "output_type": "stream",
          "name": "stdout",
          "text": [
            "9/9 [==============================] - 0s 3ms/step\n",
            "9/9 [==============================] - 0s 3ms/step\n",
            "9/9 [==============================] - 0s 3ms/step\n",
            "9/9 [==============================] - 0s 2ms/step\n",
            "9/9 [==============================] - 0s 3ms/step\n"
          ]
        },
        {
          "output_type": "stream",
          "name": "stderr",
          "text": [
            "[I 2023-12-05 20:06:17,580] Trial 34 finished with value: 0.9026346069389547 and parameters: {'learning_rate': 0.0012929700621567334, 'dropout_rate': 0.4059543430785066, 'num_layers': 4, 'n_nodes_layer_0': 117, 'n_nodes_layer_1': 112, 'n_nodes_layer_2': 75, 'n_nodes_layer_3': 111}. Best is trial 22 with value: 0.9149670619235838.\n"
          ]
        },
        {
          "output_type": "stream",
          "name": "stdout",
          "text": [
            "9/9 [==============================] - 0s 3ms/step\n",
            "9/9 [==============================] - 0s 3ms/step\n",
            "9/9 [==============================] - 0s 2ms/step\n",
            "9/9 [==============================] - 0s 2ms/step\n",
            "9/9 [==============================] - 0s 2ms/step\n"
          ]
        },
        {
          "output_type": "stream",
          "name": "stderr",
          "text": [
            "[I 2023-12-05 20:06:32,413] Trial 35 finished with value: 0.9023941589811155 and parameters: {'learning_rate': 0.0012795833916236711, 'dropout_rate': 0.4013479415954107, 'num_layers': 4, 'n_nodes_layer_0': 118, 'n_nodes_layer_1': 110, 'n_nodes_layer_2': 84, 'n_nodes_layer_3': 113}. Best is trial 22 with value: 0.9149670619235838.\n"
          ]
        },
        {
          "output_type": "stream",
          "name": "stdout",
          "text": [
            "9/9 [==============================] - 0s 3ms/step\n",
            "9/9 [==============================] - 0s 2ms/step\n",
            "9/9 [==============================] - 0s 2ms/step\n",
            "9/9 [==============================] - 0s 2ms/step\n",
            "9/9 [==============================] - 0s 3ms/step\n"
          ]
        },
        {
          "output_type": "stream",
          "name": "stderr",
          "text": [
            "[I 2023-12-05 20:06:46,437] Trial 36 finished with value: 0.9007986385595081 and parameters: {'learning_rate': 0.001198627174552961, 'dropout_rate': 0.3549636690023715, 'num_layers': 4, 'n_nodes_layer_0': 121, 'n_nodes_layer_1': 111, 'n_nodes_layer_2': 83, 'n_nodes_layer_3': 114}. Best is trial 22 with value: 0.9149670619235838.\n"
          ]
        },
        {
          "output_type": "stream",
          "name": "stdout",
          "text": [
            "9/9 [==============================] - 0s 3ms/step\n",
            "9/9 [==============================] - 0s 2ms/step\n",
            "9/9 [==============================] - 0s 3ms/step\n",
            "9/9 [==============================] - 0s 2ms/step\n",
            "9/9 [==============================] - 0s 2ms/step\n"
          ]
        },
        {
          "output_type": "stream",
          "name": "stderr",
          "text": [
            "[I 2023-12-05 20:06:57,960] Trial 37 finished with value: 0.9031978480456742 and parameters: {'learning_rate': 0.001176555712744625, 'dropout_rate': 0.3961690456065415, 'num_layers': 4, 'n_nodes_layer_0': 118, 'n_nodes_layer_1': 116, 'n_nodes_layer_2': 84, 'n_nodes_layer_3': 115}. Best is trial 22 with value: 0.9149670619235838.\n"
          ]
        },
        {
          "output_type": "stream",
          "name": "stdout",
          "text": [
            "9/9 [==============================] - 0s 2ms/step\n",
            "9/9 [==============================] - 0s 3ms/step\n",
            "9/9 [==============================] - 0s 2ms/step\n",
            "9/9 [==============================] - 0s 2ms/step\n",
            "9/9 [==============================] - 0s 2ms/step\n"
          ]
        },
        {
          "output_type": "stream",
          "name": "stderr",
          "text": [
            "[I 2023-12-05 20:07:11,641] Trial 38 finished with value: 0.8889765041721563 and parameters: {'learning_rate': 0.0012329889086492012, 'dropout_rate': 0.43177681031990384, 'num_layers': 4, 'n_nodes_layer_0': 118, 'n_nodes_layer_1': 124, 'n_nodes_layer_2': 90, 'n_nodes_layer_3': 116}. Best is trial 22 with value: 0.9149670619235838.\n"
          ]
        },
        {
          "output_type": "stream",
          "name": "stdout",
          "text": [
            "9/9 [==============================] - 0s 3ms/step\n",
            "9/9 [==============================] - 0s 3ms/step\n",
            "9/9 [==============================] - 0s 2ms/step\n",
            "9/9 [==============================] - 0s 2ms/step\n",
            "9/9 [==============================] - 0s 3ms/step\n"
          ]
        },
        {
          "output_type": "stream",
          "name": "stderr",
          "text": [
            "[I 2023-12-05 20:07:25,068] Trial 39 finished with value: 0.8755972771190162 and parameters: {'learning_rate': 0.0005127912582013798, 'dropout_rate': 0.3929756183417121, 'num_layers': 3, 'n_nodes_layer_0': 105, 'n_nodes_layer_1': 118, 'n_nodes_layer_2': 69}. Best is trial 22 with value: 0.9149670619235838.\n"
          ]
        },
        {
          "output_type": "stream",
          "name": "stdout",
          "text": [
            "9/9 [==============================] - 0s 3ms/step\n",
            "9/9 [==============================] - 0s 4ms/step\n",
            "9/9 [==============================] - 0s 3ms/step\n",
            "9/9 [==============================] - 0s 2ms/step\n",
            "9/9 [==============================] - 0s 2ms/step\n"
          ]
        },
        {
          "output_type": "stream",
          "name": "stderr",
          "text": [
            "[I 2023-12-05 20:07:37,020] Trial 40 finished with value: 0.788798858146684 and parameters: {'learning_rate': 0.0002677609150947321, 'dropout_rate': 0.4425886926905128, 'num_layers': 4, 'n_nodes_layer_0': 9, 'n_nodes_layer_1': 107, 'n_nodes_layer_2': 102, 'n_nodes_layer_3': 120}. Best is trial 22 with value: 0.9149670619235838.\n"
          ]
        },
        {
          "output_type": "stream",
          "name": "stdout",
          "text": [
            "9/9 [==============================] - 0s 3ms/step\n",
            "9/9 [==============================] - 0s 2ms/step\n",
            "9/9 [==============================] - 0s 2ms/step\n",
            "9/9 [==============================] - 0s 3ms/step\n",
            "9/9 [==============================] - 0s 3ms/step\n"
          ]
        },
        {
          "output_type": "stream",
          "name": "stderr",
          "text": [
            "[I 2023-12-05 20:07:46,573] Trial 41 finished with value: 0.9007079490557752 and parameters: {'learning_rate': 0.001005832520014448, 'dropout_rate': 0.34642503839956973, 'num_layers': 4, 'n_nodes_layer_0': 122, 'n_nodes_layer_1': 110, 'n_nodes_layer_2': 77, 'n_nodes_layer_3': 110}. Best is trial 22 with value: 0.9149670619235838.\n"
          ]
        },
        {
          "output_type": "stream",
          "name": "stdout",
          "text": [
            "9/9 [==============================] - 0s 2ms/step\n",
            "9/9 [==============================] - 0s 2ms/step\n",
            "9/9 [==============================] - 0s 2ms/step\n",
            "9/9 [==============================] - 0s 3ms/step\n",
            "9/9 [==============================] - 0s 3ms/step\n"
          ]
        },
        {
          "output_type": "stream",
          "name": "stderr",
          "text": [
            "[I 2023-12-05 20:07:57,746] Trial 42 finished with value: 0.9078058849363198 and parameters: {'learning_rate': 0.00161202064757124, 'dropout_rate': 0.3995836811021739, 'num_layers': 4, 'n_nodes_layer_0': 119, 'n_nodes_layer_1': 120, 'n_nodes_layer_2': 87, 'n_nodes_layer_3': 97}. Best is trial 22 with value: 0.9149670619235838.\n"
          ]
        },
        {
          "output_type": "stream",
          "name": "stdout",
          "text": [
            "9/9 [==============================] - 0s 2ms/step\n",
            "9/9 [==============================] - 0s 3ms/step\n",
            "9/9 [==============================] - 0s 2ms/step\n",
            "9/9 [==============================] - 0s 3ms/step\n",
            "9/9 [==============================] - 0s 2ms/step\n"
          ]
        },
        {
          "output_type": "stream",
          "name": "stderr",
          "text": [
            "[I 2023-12-05 20:08:07,655] Trial 43 finished with value: 0.907207509881423 and parameters: {'learning_rate': 0.0017468859438848916, 'dropout_rate': 0.4100219434312107, 'num_layers': 3, 'n_nodes_layer_0': 115, 'n_nodes_layer_1': 119, 'n_nodes_layer_2': 69}. Best is trial 22 with value: 0.9149670619235838.\n"
          ]
        },
        {
          "output_type": "stream",
          "name": "stdout",
          "text": [
            "9/9 [==============================] - 0s 2ms/step\n",
            "9/9 [==============================] - 0s 3ms/step\n",
            "9/9 [==============================] - 0s 3ms/step\n",
            "9/9 [==============================] - 0s 2ms/step\n",
            "9/9 [==============================] - 0s 2ms/step\n"
          ]
        },
        {
          "output_type": "stream",
          "name": "stderr",
          "text": [
            "[I 2023-12-05 20:08:17,717] Trial 44 finished with value: 0.8956005709266579 and parameters: {'learning_rate': 0.0017139173793539757, 'dropout_rate': 0.4155169981338466, 'num_layers': 3, 'n_nodes_layer_0': 64, 'n_nodes_layer_1': 119, 'n_nodes_layer_2': 62}. Best is trial 22 with value: 0.9149670619235838.\n"
          ]
        },
        {
          "output_type": "stream",
          "name": "stdout",
          "text": [
            "9/9 [==============================] - 0s 2ms/step\n",
            "9/9 [==============================] - 0s 2ms/step\n",
            "9/9 [==============================] - 0s 2ms/step\n",
            "9/9 [==============================] - 0s 3ms/step\n",
            "9/9 [==============================] - 0s 3ms/step\n"
          ]
        },
        {
          "output_type": "stream",
          "name": "stderr",
          "text": [
            "[I 2023-12-05 20:08:27,564] Trial 45 finished with value: 0.9136176987263944 and parameters: {'learning_rate': 0.000791357410621834, 'dropout_rate': 0.3779044149187475, 'num_layers': 3, 'n_nodes_layer_0': 115, 'n_nodes_layer_1': 125, 'n_nodes_layer_2': 72}. Best is trial 22 with value: 0.9149670619235838.\n"
          ]
        },
        {
          "output_type": "stream",
          "name": "stdout",
          "text": [
            "9/9 [==============================] - 0s 2ms/step\n",
            "9/9 [==============================] - 0s 2ms/step\n",
            "9/9 [==============================] - 0s 2ms/step\n",
            "9/9 [==============================] - 0s 2ms/step\n",
            "9/9 [==============================] - 0s 2ms/step\n"
          ]
        },
        {
          "output_type": "stream",
          "name": "stderr",
          "text": [
            "[I 2023-12-05 20:08:38,565] Trial 46 finished with value: 0.8747305665349143 and parameters: {'learning_rate': 0.0007539598889840731, 'dropout_rate': 0.3727819469299132, 'num_layers': 3, 'n_nodes_layer_0': 97, 'n_nodes_layer_1': 128, 'n_nodes_layer_2': 96}. Best is trial 22 with value: 0.9149670619235838.\n"
          ]
        },
        {
          "output_type": "stream",
          "name": "stdout",
          "text": [
            "9/9 [==============================] - 0s 3ms/step\n",
            "9/9 [==============================] - 0s 2ms/step\n",
            "9/9 [==============================] - 0s 2ms/step\n",
            "9/9 [==============================] - 0s 2ms/step\n",
            "9/9 [==============================] - 0s 2ms/step\n"
          ]
        },
        {
          "output_type": "stream",
          "name": "stderr",
          "text": [
            "[I 2023-12-05 20:08:49,469] Trial 47 finished with value: 0.8839189723320157 and parameters: {'learning_rate': 0.0020112845245894256, 'dropout_rate': 0.43334199440777704, 'num_layers': 3, 'n_nodes_layer_0': 114, 'n_nodes_layer_1': 121, 'n_nodes_layer_2': 55}. Best is trial 22 with value: 0.9149670619235838.\n"
          ]
        },
        {
          "output_type": "stream",
          "name": "stdout",
          "text": [
            "9/9 [==============================] - 0s 2ms/step\n",
            "9/9 [==============================] - 0s 4ms/step\n",
            "9/9 [==============================] - 0s 3ms/step\n",
            "9/9 [==============================] - 0s 2ms/step\n",
            "9/9 [==============================] - 0s 2ms/step\n"
          ]
        },
        {
          "output_type": "stream",
          "name": "stderr",
          "text": [
            "[I 2023-12-05 20:09:00,251] Trial 48 finished with value: 0.8922180500658763 and parameters: {'learning_rate': 0.000992344881498688, 'dropout_rate': 0.38461109709127006, 'num_layers': 3, 'n_nodes_layer_0': 30, 'n_nodes_layer_1': 127, 'n_nodes_layer_2': 71}. Best is trial 22 with value: 0.9149670619235838.\n"
          ]
        },
        {
          "output_type": "stream",
          "name": "stdout",
          "text": [
            "9/9 [==============================] - 0s 2ms/step\n",
            "9/9 [==============================] - 0s 3ms/step\n",
            "9/9 [==============================] - 0s 3ms/step\n",
            "9/9 [==============================] - 0s 3ms/step\n",
            "9/9 [==============================] - 0s 2ms/step\n"
          ]
        },
        {
          "output_type": "stream",
          "name": "stderr",
          "text": [
            "[I 2023-12-05 20:09:12,219] Trial 49 finished with value: 0.8829909969257794 and parameters: {'learning_rate': 0.0007279943910906679, 'dropout_rate': 0.3483713313819608, 'num_layers': 3, 'n_nodes_layer_0': 106, 'n_nodes_layer_1': 119, 'n_nodes_layer_2': 102}. Best is trial 22 with value: 0.9149670619235838.\n"
          ]
        },
        {
          "output_type": "stream",
          "name": "stdout",
          "text": [
            "9/9 [==============================] - 0s 2ms/step\n",
            "9/9 [==============================] - 0s 2ms/step\n",
            "9/9 [==============================] - 0s 3ms/step\n",
            "9/9 [==============================] - 0s 3ms/step\n",
            "9/9 [==============================] - 0s 2ms/step\n"
          ]
        },
        {
          "output_type": "stream",
          "name": "stderr",
          "text": [
            "[I 2023-12-05 20:09:21,175] Trial 50 finished with value: 0.854199604743083 and parameters: {'learning_rate': 0.001736268353170761, 'dropout_rate': 0.31235399405565234, 'num_layers': 1, 'n_nodes_layer_0': 98}. Best is trial 22 with value: 0.9149670619235838.\n"
          ]
        },
        {
          "output_type": "stream",
          "name": "stdout",
          "text": [
            "9/9 [==============================] - 0s 2ms/step\n",
            "9/9 [==============================] - 0s 3ms/step\n",
            "9/9 [==============================] - 0s 2ms/step\n",
            "9/9 [==============================] - 0s 3ms/step\n",
            "9/9 [==============================] - 0s 2ms/step\n"
          ]
        },
        {
          "output_type": "stream",
          "name": "stderr",
          "text": [
            "[I 2023-12-05 20:09:31,393] Trial 51 finished with value: 0.8707830478700045 and parameters: {'learning_rate': 0.000605389104561175, 'dropout_rate': 0.40430425127783504, 'num_layers': 3, 'n_nodes_layer_0': 123, 'n_nodes_layer_1': 117, 'n_nodes_layer_2': 77}. Best is trial 22 with value: 0.9149670619235838.\n"
          ]
        },
        {
          "output_type": "stream",
          "name": "stdout",
          "text": [
            "9/9 [==============================] - 0s 3ms/step\n",
            "9/9 [==============================] - 0s 3ms/step\n",
            "9/9 [==============================] - 0s 2ms/step\n",
            "9/9 [==============================] - 0s 3ms/step\n",
            "9/9 [==============================] - 0s 3ms/step\n"
          ]
        },
        {
          "output_type": "stream",
          "name": "stderr",
          "text": [
            "[I 2023-12-05 20:09:43,293] Trial 52 finished with value: 0.8868317962231005 and parameters: {'learning_rate': 0.001650674723005728, 'dropout_rate': 0.3295187242199473, 'num_layers': 4, 'n_nodes_layer_0': 115, 'n_nodes_layer_1': 105, 'n_nodes_layer_2': 62, 'n_nodes_layer_3': 96}. Best is trial 22 with value: 0.9149670619235838.\n"
          ]
        },
        {
          "output_type": "stream",
          "name": "stdout",
          "text": [
            "9/9 [==============================] - 0s 2ms/step\n",
            "9/9 [==============================] - 0s 2ms/step\n",
            "9/9 [==============================] - 0s 3ms/step\n",
            "9/9 [==============================] - 0s 4ms/step\n",
            "9/9 [==============================] - 0s 3ms/step\n"
          ]
        },
        {
          "output_type": "stream",
          "name": "stderr",
          "text": [
            "[I 2023-12-05 20:09:53,385] Trial 53 finished with value: 0.9224413702239789 and parameters: {'learning_rate': 0.0010105645252669788, 'dropout_rate': 0.4259404473564193, 'num_layers': 3, 'n_nodes_layer_0': 106, 'n_nodes_layer_1': 113, 'n_nodes_layer_2': 91}. Best is trial 53 with value: 0.9224413702239789.\n"
          ]
        },
        {
          "output_type": "stream",
          "name": "stdout",
          "text": [
            "9/9 [==============================] - 0s 2ms/step\n",
            "9/9 [==============================] - 0s 2ms/step\n",
            "9/9 [==============================] - 0s 2ms/step\n",
            "9/9 [==============================] - 0s 2ms/step\n",
            "9/9 [==============================] - 0s 3ms/step\n"
          ]
        },
        {
          "output_type": "stream",
          "name": "stderr",
          "text": [
            "[I 2023-12-05 20:10:02,977] Trial 54 finished with value: 0.8755531400966182 and parameters: {'learning_rate': 0.0009183652845003017, 'dropout_rate': 0.45565832063305384, 'num_layers': 3, 'n_nodes_layer_0': 108, 'n_nodes_layer_1': 115, 'n_nodes_layer_2': 90}. Best is trial 53 with value: 0.9224413702239789.\n"
          ]
        },
        {
          "output_type": "stream",
          "name": "stdout",
          "text": [
            "9/9 [==============================] - 0s 3ms/step\n",
            "9/9 [==============================] - 0s 2ms/step\n",
            "9/9 [==============================] - 0s 3ms/step\n",
            "9/9 [==============================] - 0s 2ms/step\n",
            "9/9 [==============================] - 0s 4ms/step\n"
          ]
        },
        {
          "output_type": "stream",
          "name": "stderr",
          "text": [
            "[I 2023-12-05 20:10:13,601] Trial 55 finished with value: 0.8719664031620553 and parameters: {'learning_rate': 0.0005093058115941916, 'dropout_rate': 0.4319620043307924, 'num_layers': 3, 'n_nodes_layer_0': 92, 'n_nodes_layer_1': 124, 'n_nodes_layer_2': 117}. Best is trial 53 with value: 0.9224413702239789.\n"
          ]
        },
        {
          "output_type": "stream",
          "name": "stdout",
          "text": [
            "9/9 [==============================] - 0s 2ms/step\n",
            "9/9 [==============================] - 0s 3ms/step\n",
            "9/9 [==============================] - 0s 2ms/step\n",
            "9/9 [==============================] - 0s 3ms/step\n",
            "9/9 [==============================] - 0s 2ms/step\n"
          ]
        },
        {
          "output_type": "stream",
          "name": "stderr",
          "text": [
            "[I 2023-12-05 20:10:24,706] Trial 56 finished with value: 0.9093293807641635 and parameters: {'learning_rate': 0.0009628784774556883, 'dropout_rate': 0.3761918064618855, 'num_layers': 3, 'n_nodes_layer_0': 101, 'n_nodes_layer_1': 92, 'n_nodes_layer_2': 90}. Best is trial 53 with value: 0.9224413702239789.\n"
          ]
        },
        {
          "output_type": "stream",
          "name": "stdout",
          "text": [
            "9/9 [==============================] - 0s 2ms/step\n",
            "9/9 [==============================] - 0s 2ms/step\n",
            "9/9 [==============================] - 0s 2ms/step\n",
            "9/9 [==============================] - 0s 2ms/step\n",
            "9/9 [==============================] - 0s 2ms/step\n"
          ]
        },
        {
          "output_type": "stream",
          "name": "stderr",
          "text": [
            "[I 2023-12-05 20:10:34,517] Trial 57 finished with value: 0.8216787439613527 and parameters: {'learning_rate': 0.003189527010410952, 'dropout_rate': 0.3648873649379741, 'num_layers': 3, 'n_nodes_layer_0': 99, 'n_nodes_layer_1': 92, 'n_nodes_layer_2': 101}. Best is trial 53 with value: 0.9224413702239789.\n"
          ]
        },
        {
          "output_type": "stream",
          "name": "stdout",
          "text": [
            "9/9 [==============================] - 0s 2ms/step\n",
            "9/9 [==============================] - 0s 2ms/step\n",
            "9/9 [==============================] - 0s 3ms/step\n",
            "9/9 [==============================] - 0s 2ms/step\n",
            "9/9 [==============================] - 0s 3ms/step\n"
          ]
        },
        {
          "output_type": "stream",
          "name": "stderr",
          "text": [
            "[I 2023-12-05 20:10:43,891] Trial 58 finished with value: 0.9098522178304786 and parameters: {'learning_rate': 0.0008766500241159656, 'dropout_rate': 0.38149758531519423, 'num_layers': 3, 'n_nodes_layer_0': 88, 'n_nodes_layer_1': 86, 'n_nodes_layer_2': 92}. Best is trial 53 with value: 0.9224413702239789.\n"
          ]
        },
        {
          "output_type": "stream",
          "name": "stdout",
          "text": [
            "9/9 [==============================] - 0s 3ms/step\n",
            "9/9 [==============================] - 0s 2ms/step\n",
            "9/9 [==============================] - 0s 2ms/step\n",
            "9/9 [==============================] - 0s 2ms/step\n",
            "9/9 [==============================] - 0s 2ms/step\n"
          ]
        },
        {
          "output_type": "stream",
          "name": "stderr",
          "text": [
            "[I 2023-12-05 20:10:53,379] Trial 59 finished with value: 0.8332588932806324 and parameters: {'learning_rate': 0.0003909334023527408, 'dropout_rate': 0.3414692977101472, 'num_layers': 2, 'n_nodes_layer_0': 76, 'n_nodes_layer_1': 94}. Best is trial 53 with value: 0.9224413702239789.\n"
          ]
        },
        {
          "output_type": "stream",
          "name": "stdout",
          "text": [
            "9/9 [==============================] - 0s 2ms/step\n",
            "9/9 [==============================] - 0s 2ms/step\n",
            "9/9 [==============================] - 0s 3ms/step\n",
            "9/9 [==============================] - 0s 4ms/step\n",
            "9/9 [==============================] - 0s 3ms/step\n"
          ]
        },
        {
          "output_type": "stream",
          "name": "stderr",
          "text": [
            "[I 2023-12-05 20:11:02,817] Trial 60 finished with value: 0.8809486166007906 and parameters: {'learning_rate': 0.0009176467597938665, 'dropout_rate': 0.3838346843303969, 'num_layers': 3, 'n_nodes_layer_0': 87, 'n_nodes_layer_1': 87, 'n_nodes_layer_2': 108}. Best is trial 53 with value: 0.9224413702239789.\n"
          ]
        },
        {
          "output_type": "stream",
          "name": "stdout",
          "text": [
            "9/9 [==============================] - 0s 2ms/step\n",
            "9/9 [==============================] - 0s 2ms/step\n",
            "9/9 [==============================] - 0s 3ms/step\n",
            "9/9 [==============================] - 0s 2ms/step\n",
            "9/9 [==============================] - 0s 2ms/step\n"
          ]
        },
        {
          "output_type": "stream",
          "name": "stderr",
          "text": [
            "[I 2023-12-05 20:11:10,969] Trial 61 finished with value: 0.8970019762845849 and parameters: {'learning_rate': 0.0015409259215076162, 'dropout_rate': 0.4187419073126845, 'num_layers': 3, 'n_nodes_layer_0': 103, 'n_nodes_layer_1': 83, 'n_nodes_layer_2': 90}. Best is trial 53 with value: 0.9224413702239789.\n"
          ]
        },
        {
          "output_type": "stream",
          "name": "stdout",
          "text": [
            "9/9 [==============================] - 0s 3ms/step\n",
            "9/9 [==============================] - 0s 2ms/step\n",
            "9/9 [==============================] - 0s 2ms/step\n",
            "9/9 [==============================] - 0s 2ms/step\n",
            "9/9 [==============================] - 0s 3ms/step\n"
          ]
        },
        {
          "output_type": "stream",
          "name": "stderr",
          "text": [
            "[I 2023-12-05 20:11:22,030] Trial 62 finished with value: 0.8997974308300396 and parameters: {'learning_rate': 0.002002420805296436, 'dropout_rate': 0.37061624907914226, 'num_layers': 3, 'n_nodes_layer_0': 109, 'n_nodes_layer_1': 85, 'n_nodes_layer_2': 128}. Best is trial 53 with value: 0.9224413702239789.\n"
          ]
        },
        {
          "output_type": "stream",
          "name": "stdout",
          "text": [
            "9/9 [==============================] - 0s 3ms/step\n",
            "9/9 [==============================] - 0s 3ms/step\n",
            "9/9 [==============================] - 0s 2ms/step\n",
            "9/9 [==============================] - 0s 3ms/step\n",
            "9/9 [==============================] - 0s 2ms/step\n"
          ]
        },
        {
          "output_type": "stream",
          "name": "stderr",
          "text": [
            "[I 2023-12-05 20:11:34,002] Trial 63 finished with value: 0.9000149319279755 and parameters: {'learning_rate': 0.0008225240622208947, 'dropout_rate': 0.44565593276797755, 'num_layers': 3, 'n_nodes_layer_0': 95, 'n_nodes_layer_1': 104, 'n_nodes_layer_2': 94}. Best is trial 53 with value: 0.9224413702239789.\n"
          ]
        },
        {
          "output_type": "stream",
          "name": "stdout",
          "text": [
            "9/9 [==============================] - 0s 2ms/step\n",
            "9/9 [==============================] - 0s 2ms/step\n",
            "9/9 [==============================] - 0s 3ms/step\n",
            "9/9 [==============================] - 0s 4ms/step\n",
            "9/9 [==============================] - 0s 2ms/step\n"
          ]
        },
        {
          "output_type": "stream",
          "name": "stderr",
          "text": [
            "[I 2023-12-05 20:11:43,288] Trial 64 finished with value: 0.8702977602108037 and parameters: {'learning_rate': 0.0044648012129969135, 'dropout_rate': 0.3307456441963647, 'num_layers': 3, 'n_nodes_layer_0': 89, 'n_nodes_layer_1': 65, 'n_nodes_layer_2': 87}. Best is trial 53 with value: 0.9224413702239789.\n"
          ]
        },
        {
          "output_type": "stream",
          "name": "stdout",
          "text": [
            "9/9 [==============================] - 0s 2ms/step\n",
            "9/9 [==============================] - 0s 2ms/step\n",
            "9/9 [==============================] - 0s 2ms/step\n",
            "9/9 [==============================] - 0s 2ms/step\n",
            "9/9 [==============================] - 0s 2ms/step\n"
          ]
        },
        {
          "output_type": "stream",
          "name": "stderr",
          "text": [
            "[I 2023-12-05 20:11:50,890] Trial 65 finished with value: 0.8803607817303469 and parameters: {'learning_rate': 0.0021851710736986367, 'dropout_rate': 0.35824926620487096, 'num_layers': 2, 'n_nodes_layer_0': 112, 'n_nodes_layer_1': 73}. Best is trial 53 with value: 0.9224413702239789.\n"
          ]
        },
        {
          "output_type": "stream",
          "name": "stdout",
          "text": [
            "9/9 [==============================] - 0s 4ms/step\n",
            "9/9 [==============================] - 0s 2ms/step\n",
            "9/9 [==============================] - 0s 2ms/step\n",
            "9/9 [==============================] - 0s 2ms/step\n",
            "9/9 [==============================] - 0s 2ms/step\n"
          ]
        },
        {
          "output_type": "stream",
          "name": "stderr",
          "text": [
            "[I 2023-12-05 20:12:04,236] Trial 66 finished with value: 0.8463469477382521 and parameters: {'learning_rate': 0.003082846441260167, 'dropout_rate': 0.39441565898506226, 'num_layers': 3, 'n_nodes_layer_0': 103, 'n_nodes_layer_1': 97, 'n_nodes_layer_2': 96}. Best is trial 53 with value: 0.9224413702239789.\n"
          ]
        },
        {
          "output_type": "stream",
          "name": "stdout",
          "text": [
            "9/9 [==============================] - 0s 3ms/step\n",
            "9/9 [==============================] - 0s 2ms/step\n",
            "9/9 [==============================] - 0s 4ms/step\n",
            "9/9 [==============================] - 0s 2ms/step\n",
            "9/9 [==============================] - 0s 2ms/step\n"
          ]
        },
        {
          "output_type": "stream",
          "name": "stderr",
          "text": [
            "[I 2023-12-05 20:12:14,924] Trial 67 finished with value: 0.8774222661396575 and parameters: {'learning_rate': 0.0015036461257490056, 'dropout_rate': 0.4269489876440545, 'num_layers': 2, 'n_nodes_layer_0': 124, 'n_nodes_layer_1': 77}. Best is trial 53 with value: 0.9224413702239789.\n"
          ]
        },
        {
          "output_type": "stream",
          "name": "stdout",
          "text": [
            "9/9 [==============================] - 0s 2ms/step\n",
            "9/9 [==============================] - 0s 2ms/step\n",
            "9/9 [==============================] - 0s 3ms/step\n",
            "9/9 [==============================] - 0s 3ms/step\n",
            "9/9 [==============================] - 0s 2ms/step\n"
          ]
        },
        {
          "output_type": "stream",
          "name": "stderr",
          "text": [
            "[I 2023-12-05 20:12:24,923] Trial 68 finished with value: 0.8729545454545453 and parameters: {'learning_rate': 0.0006306805748823109, 'dropout_rate': 0.38544074448181087, 'num_layers': 3, 'n_nodes_layer_0': 101, 'n_nodes_layer_1': 100, 'n_nodes_layer_2': 73}. Best is trial 53 with value: 0.9224413702239789.\n"
          ]
        },
        {
          "output_type": "stream",
          "name": "stdout",
          "text": [
            "9/9 [==============================] - 0s 2ms/step\n",
            "9/9 [==============================] - 0s 2ms/step\n",
            "9/9 [==============================] - 0s 2ms/step\n",
            "9/9 [==============================] - 0s 3ms/step\n",
            "9/9 [==============================] - 0s 3ms/step\n"
          ]
        },
        {
          "output_type": "stream",
          "name": "stderr",
          "text": [
            "[I 2023-12-05 20:12:34,830] Trial 69 finished with value: 0.8946357048748353 and parameters: {'learning_rate': 0.0010483020083442223, 'dropout_rate': 0.4621896762360852, 'num_layers': 3, 'n_nodes_layer_0': 128, 'n_nodes_layer_1': 94, 'n_nodes_layer_2': 64}. Best is trial 53 with value: 0.9224413702239789.\n"
          ]
        },
        {
          "output_type": "stream",
          "name": "stdout",
          "text": [
            "9/9 [==============================] - 0s 3ms/step\n",
            "9/9 [==============================] - 0s 3ms/step\n",
            "9/9 [==============================] - 0s 2ms/step\n",
            "9/9 [==============================] - 0s 3ms/step\n",
            "9/9 [==============================] - 0s 2ms/step\n"
          ]
        },
        {
          "output_type": "stream",
          "name": "stderr",
          "text": [
            "[I 2023-12-05 20:12:43,984] Trial 70 finished with value: 0.8846751207729469 and parameters: {'learning_rate': 0.0035855808634584095, 'dropout_rate': 0.42030685920053407, 'num_layers': 3, 'n_nodes_layer_0': 114, 'n_nodes_layer_1': 128, 'n_nodes_layer_2': 81}. Best is trial 53 with value: 0.9224413702239789.\n"
          ]
        },
        {
          "output_type": "stream",
          "name": "stdout",
          "text": [
            "9/9 [==============================] - 0s 2ms/step\n",
            "9/9 [==============================] - 0s 3ms/step\n",
            "9/9 [==============================] - 0s 2ms/step\n",
            "9/9 [==============================] - 0s 3ms/step\n",
            "9/9 [==============================] - 0s 2ms/step\n"
          ]
        },
        {
          "output_type": "stream",
          "name": "stderr",
          "text": [
            "[I 2023-12-05 20:12:55,416] Trial 71 finished with value: 0.8846453667105841 and parameters: {'learning_rate': 0.0011213834931031294, 'dropout_rate': 0.3974422355100423, 'num_layers': 4, 'n_nodes_layer_0': 108, 'n_nodes_layer_1': 115, 'n_nodes_layer_2': 87, 'n_nodes_layer_3': 17}. Best is trial 53 with value: 0.9224413702239789.\n"
          ]
        },
        {
          "output_type": "stream",
          "name": "stdout",
          "text": [
            "9/9 [==============================] - 0s 3ms/step\n",
            "9/9 [==============================] - 0s 2ms/step\n",
            "9/9 [==============================] - 0s 3ms/step\n",
            "9/9 [==============================] - 0s 2ms/step\n",
            "9/9 [==============================] - 0s 2ms/step\n"
          ]
        },
        {
          "output_type": "stream",
          "name": "stderr",
          "text": [
            "[I 2023-12-05 20:13:06,821] Trial 72 finished with value: 0.910342995169082 and parameters: {'learning_rate': 0.001385062133800584, 'dropout_rate': 0.3568945509720899, 'num_layers': 4, 'n_nodes_layer_0': 120, 'n_nodes_layer_1': 121, 'n_nodes_layer_2': 51, 'n_nodes_layer_3': 31}. Best is trial 53 with value: 0.9224413702239789.\n"
          ]
        },
        {
          "output_type": "stream",
          "name": "stdout",
          "text": [
            "9/9 [==============================] - 0s 2ms/step\n",
            "9/9 [==============================] - 0s 2ms/step\n",
            "9/9 [==============================] - 0s 3ms/step\n",
            "9/9 [==============================] - 0s 2ms/step\n",
            "9/9 [==============================] - 0s 4ms/step\n"
          ]
        },
        {
          "output_type": "stream",
          "name": "stderr",
          "text": [
            "[I 2023-12-05 20:13:14,832] Trial 73 finished with value: 0.8965454545454545 and parameters: {'learning_rate': 0.0014658098056262426, 'dropout_rate': 0.3758629332798762, 'num_layers': 3, 'n_nodes_layer_0': 120, 'n_nodes_layer_1': 125, 'n_nodes_layer_2': 48}. Best is trial 53 with value: 0.9224413702239789.\n"
          ]
        },
        {
          "output_type": "stream",
          "name": "stdout",
          "text": [
            "9/9 [==============================] - 0s 2ms/step\n",
            "9/9 [==============================] - 0s 3ms/step\n",
            "9/9 [==============================] - 0s 2ms/step\n",
            "9/9 [==============================] - 0s 2ms/step\n",
            "9/9 [==============================] - 0s 3ms/step\n"
          ]
        },
        {
          "output_type": "stream",
          "name": "stderr",
          "text": [
            "[I 2023-12-05 20:13:25,309] Trial 74 finished with value: 0.9017202459376371 and parameters: {'learning_rate': 0.0028064125465348914, 'dropout_rate': 0.36078767750880686, 'num_layers': 5, 'n_nodes_layer_0': 114, 'n_nodes_layer_1': 121, 'n_nodes_layer_2': 60, 'n_nodes_layer_3': 34, 'n_nodes_layer_4': 83}. Best is trial 53 with value: 0.9224413702239789.\n"
          ]
        },
        {
          "output_type": "stream",
          "name": "stdout",
          "text": [
            "9/9 [==============================] - 0s 2ms/step\n",
            "9/9 [==============================] - 0s 4ms/step\n",
            "9/9 [==============================] - 0s 2ms/step\n",
            "9/9 [==============================] - 0s 3ms/step\n",
            "9/9 [==============================] - 0s 3ms/step\n"
          ]
        },
        {
          "output_type": "stream",
          "name": "stderr",
          "text": [
            "[I 2023-12-05 20:13:35,508] Trial 75 finished with value: 0.9059556433904259 and parameters: {'learning_rate': 0.002354026461152723, 'dropout_rate': 0.3427457362612083, 'num_layers': 4, 'n_nodes_layer_0': 108, 'n_nodes_layer_1': 107, 'n_nodes_layer_2': 58, 'n_nodes_layer_3': 32}. Best is trial 53 with value: 0.9224413702239789.\n"
          ]
        },
        {
          "output_type": "stream",
          "name": "stdout",
          "text": [
            "9/9 [==============================] - 0s 2ms/step\n",
            "9/9 [==============================] - 0s 3ms/step\n",
            "9/9 [==============================] - 0s 2ms/step\n",
            "9/9 [==============================] - 0s 2ms/step\n",
            "9/9 [==============================] - 0s 3ms/step\n"
          ]
        },
        {
          "output_type": "stream",
          "name": "stderr",
          "text": [
            "[I 2023-12-05 20:13:43,871] Trial 76 finished with value: 0.8900533596837945 and parameters: {'learning_rate': 0.0008488405942884816, 'dropout_rate': 0.3129145332934295, 'num_layers': 3, 'n_nodes_layer_0': 124, 'n_nodes_layer_1': 13, 'n_nodes_layer_2': 107}. Best is trial 53 with value: 0.9224413702239789.\n"
          ]
        },
        {
          "output_type": "stream",
          "name": "stdout",
          "text": [
            "9/9 [==============================] - 0s 2ms/step\n",
            "9/9 [==============================] - 0s 2ms/step\n",
            "9/9 [==============================] - 0s 2ms/step\n",
            "9/9 [==============================] - 0s 2ms/step\n",
            "9/9 [==============================] - 0s 2ms/step\n"
          ]
        },
        {
          "output_type": "stream",
          "name": "stderr",
          "text": [
            "[I 2023-12-05 20:13:55,058] Trial 77 finished with value: 0.8467472551602986 and parameters: {'learning_rate': 0.0018804349359453551, 'dropout_rate': 0.40463315286437607, 'num_layers': 4, 'n_nodes_layer_0': 69, 'n_nodes_layer_1': 28, 'n_nodes_layer_2': 51, 'n_nodes_layer_3': 12}. Best is trial 53 with value: 0.9224413702239789.\n"
          ]
        },
        {
          "output_type": "stream",
          "name": "stdout",
          "text": [
            "9/9 [==============================] - 0s 4ms/step\n",
            "9/9 [==============================] - 0s 2ms/step\n",
            "9/9 [==============================] - 0s 3ms/step\n",
            "9/9 [==============================] - 0s 3ms/step\n",
            "9/9 [==============================] - 0s 3ms/step\n"
          ]
        },
        {
          "output_type": "stream",
          "name": "stderr",
          "text": [
            "[I 2023-12-05 20:14:08,517] Trial 78 finished with value: 0.9029240228370663 and parameters: {'learning_rate': 0.0010387459322257658, 'dropout_rate': 0.3802143942777894, 'num_layers': 5, 'n_nodes_layer_0': 112, 'n_nodes_layer_1': 122, 'n_nodes_layer_2': 38, 'n_nodes_layer_3': 55, 'n_nodes_layer_4': 56}. Best is trial 53 with value: 0.9224413702239789.\n"
          ]
        },
        {
          "output_type": "stream",
          "name": "stdout",
          "text": [
            "9/9 [==============================] - 0s 2ms/step\n",
            "9/9 [==============================] - 0s 2ms/step\n",
            "9/9 [==============================] - 0s 2ms/step\n",
            "9/9 [==============================] - 0s 2ms/step\n",
            "9/9 [==============================] - 0s 3ms/step\n"
          ]
        },
        {
          "output_type": "stream",
          "name": "stderr",
          "text": [
            "[I 2023-12-05 20:14:20,631] Trial 79 finished with value: 0.8831194554238033 and parameters: {'learning_rate': 0.0014060622178813328, 'dropout_rate': 0.4393921140845275, 'num_layers': 3, 'n_nodes_layer_0': 59, 'n_nodes_layer_1': 103, 'n_nodes_layer_2': 80}. Best is trial 53 with value: 0.9224413702239789.\n"
          ]
        },
        {
          "output_type": "stream",
          "name": "stdout",
          "text": [
            "9/9 [==============================] - 0s 2ms/step\n",
            "9/9 [==============================] - 0s 3ms/step\n",
            "9/9 [==============================] - 0s 2ms/step\n",
            "9/9 [==============================] - 0s 2ms/step\n",
            "9/9 [==============================] - 0s 2ms/step\n"
          ]
        },
        {
          "output_type": "stream",
          "name": "stderr",
          "text": [
            "[I 2023-12-05 20:14:30,488] Trial 80 finished with value: 0.8806464646464647 and parameters: {'learning_rate': 0.0006986532553790328, 'dropout_rate': 0.41588098714037885, 'num_layers': 3, 'n_nodes_layer_0': 105, 'n_nodes_layer_1': 114, 'n_nodes_layer_2': 17}. Best is trial 53 with value: 0.9224413702239789.\n"
          ]
        },
        {
          "output_type": "stream",
          "name": "stdout",
          "text": [
            "9/9 [==============================] - 0s 3ms/step\n",
            "9/9 [==============================] - 0s 2ms/step\n",
            "9/9 [==============================] - 0s 4ms/step\n",
            "9/9 [==============================] - 0s 3ms/step\n",
            "9/9 [==============================] - 0s 3ms/step\n"
          ]
        },
        {
          "output_type": "stream",
          "name": "stderr",
          "text": [
            "[I 2023-12-05 20:14:41,600] Trial 81 finished with value: 0.8749699165568732 and parameters: {'learning_rate': 0.0024612985320950314, 'dropout_rate': 0.34127500609964956, 'num_layers': 4, 'n_nodes_layer_0': 116, 'n_nodes_layer_1': 106, 'n_nodes_layer_2': 57, 'n_nodes_layer_3': 28}. Best is trial 53 with value: 0.9224413702239789.\n"
          ]
        },
        {
          "output_type": "stream",
          "name": "stdout",
          "text": [
            "9/9 [==============================] - 0s 3ms/step\n",
            "9/9 [==============================] - 0s 2ms/step\n",
            "9/9 [==============================] - 0s 3ms/step\n",
            "9/9 [==============================] - 0s 3ms/step\n",
            "9/9 [==============================] - 0s 3ms/step\n"
          ]
        },
        {
          "output_type": "stream",
          "name": "stderr",
          "text": [
            "[I 2023-12-05 20:14:53,347] Trial 82 finished with value: 0.859244180939833 and parameters: {'learning_rate': 0.002262780937422397, 'dropout_rate': 0.35983985514892053, 'num_layers': 4, 'n_nodes_layer_0': 48, 'n_nodes_layer_1': 110, 'n_nodes_layer_2': 68, 'n_nodes_layer_3': 40}. Best is trial 53 with value: 0.9224413702239789.\n"
          ]
        },
        {
          "output_type": "stream",
          "name": "stdout",
          "text": [
            "9/9 [==============================] - 0s 3ms/step\n",
            "9/9 [==============================] - 0s 3ms/step\n",
            "9/9 [==============================] - 0s 3ms/step\n",
            "9/9 [==============================] - 0s 2ms/step\n",
            "9/9 [==============================] - 0s 3ms/step\n"
          ]
        },
        {
          "output_type": "stream",
          "name": "stderr",
          "text": [
            "[I 2023-12-05 20:15:05,608] Trial 83 finished with value: 0.8783258673693455 and parameters: {'learning_rate': 0.0013135681253682034, 'dropout_rate': 0.37060936121195215, 'num_layers': 4, 'n_nodes_layer_0': 110, 'n_nodes_layer_1': 89, 'n_nodes_layer_2': 52, 'n_nodes_layer_3': 30}. Best is trial 53 with value: 0.9224413702239789.\n"
          ]
        },
        {
          "output_type": "stream",
          "name": "stdout",
          "text": [
            "9/9 [==============================] - 0s 3ms/step\n",
            "9/9 [==============================] - 0s 3ms/step\n",
            "9/9 [==============================] - 0s 2ms/step\n",
            "9/9 [==============================] - 0s 3ms/step\n",
            "9/9 [==============================] - 0s 3ms/step\n"
          ]
        },
        {
          "output_type": "stream",
          "name": "stderr",
          "text": [
            "[I 2023-12-05 20:15:19,961] Trial 84 finished with value: 0.8662332015810279 and parameters: {'learning_rate': 0.0018134658132249197, 'dropout_rate': 0.3501166296841933, 'num_layers': 4, 'n_nodes_layer_0': 121, 'n_nodes_layer_1': 120, 'n_nodes_layer_2': 98, 'n_nodes_layer_3': 45}. Best is trial 53 with value: 0.9224413702239789.\n"
          ]
        },
        {
          "output_type": "stream",
          "name": "stdout",
          "text": [
            "9/9 [==============================] - 0s 3ms/step\n",
            "9/9 [==============================] - 0s 2ms/step\n",
            "9/9 [==============================] - 0s 2ms/step\n",
            "9/9 [==============================] - 0s 3ms/step\n",
            "9/9 [==============================] - 0s 3ms/step\n"
          ]
        },
        {
          "output_type": "stream",
          "name": "stderr",
          "text": [
            "[I 2023-12-05 20:15:33,868] Trial 85 finished with value: 0.8793814229249012 and parameters: {'learning_rate': 0.003675878927275723, 'dropout_rate': 0.33480438942787877, 'num_layers': 5, 'n_nodes_layer_0': 107, 'n_nodes_layer_1': 125, 'n_nodes_layer_2': 76, 'n_nodes_layer_3': 18, 'n_nodes_layer_4': 120}. Best is trial 53 with value: 0.9224413702239789.\n"
          ]
        },
        {
          "output_type": "stream",
          "name": "stdout",
          "text": [
            "9/9 [==============================] - 0s 2ms/step\n",
            "9/9 [==============================] - 0s 3ms/step\n",
            "9/9 [==============================] - 0s 2ms/step\n",
            "9/9 [==============================] - 0s 2ms/step\n",
            "9/9 [==============================] - 0s 3ms/step\n"
          ]
        },
        {
          "output_type": "stream",
          "name": "stderr",
          "text": [
            "[I 2023-12-05 20:15:45,579] Trial 86 finished with value: 0.913895256916996 and parameters: {'learning_rate': 0.0011458373162411821, 'dropout_rate': 0.39302813817993554, 'num_layers': 4, 'n_nodes_layer_0': 94, 'n_nodes_layer_1': 109, 'n_nodes_layer_2': 92, 'n_nodes_layer_3': 8}. Best is trial 53 with value: 0.9224413702239789.\n"
          ]
        },
        {
          "output_type": "stream",
          "name": "stdout",
          "text": [
            "9/9 [==============================] - 0s 3ms/step\n",
            "9/9 [==============================] - 0s 3ms/step\n",
            "9/9 [==============================] - 0s 2ms/step\n",
            "9/9 [==============================] - 0s 3ms/step\n",
            "9/9 [==============================] - 0s 2ms/step\n"
          ]
        },
        {
          "output_type": "stream",
          "name": "stderr",
          "text": [
            "[I 2023-12-05 20:15:56,672] Trial 87 finished with value: 0.8909622310057094 and parameters: {'learning_rate': 0.0011030891120523253, 'dropout_rate': 0.3894354998897, 'num_layers': 3, 'n_nodes_layer_0': 96, 'n_nodes_layer_1': 110, 'n_nodes_layer_2': 90}. Best is trial 53 with value: 0.9224413702239789.\n"
          ]
        },
        {
          "output_type": "stream",
          "name": "stdout",
          "text": [
            "9/9 [==============================] - 0s 2ms/step\n",
            "9/9 [==============================] - 0s 4ms/step\n",
            "9/9 [==============================] - 0s 3ms/step\n",
            "9/9 [==============================] - 0s 3ms/step\n",
            "9/9 [==============================] - 0s 4ms/step\n"
          ]
        },
        {
          "output_type": "stream",
          "name": "stderr",
          "text": [
            "[I 2023-12-05 20:16:06,591] Trial 88 finished with value: 0.8798757136583223 and parameters: {'learning_rate': 0.0008975574845853395, 'dropout_rate': 0.40705523973416086, 'num_layers': 3, 'n_nodes_layer_0': 92, 'n_nodes_layer_1': 113, 'n_nodes_layer_2': 93}. Best is trial 53 with value: 0.9224413702239789.\n"
          ]
        },
        {
          "output_type": "stream",
          "name": "stdout",
          "text": [
            "9/9 [==============================] - 0s 3ms/step\n",
            "9/9 [==============================] - 0s 3ms/step\n",
            "9/9 [==============================] - 0s 3ms/step\n",
            "9/9 [==============================] - 0s 5ms/step\n",
            "9/9 [==============================] - 0s 3ms/step\n"
          ]
        },
        {
          "output_type": "stream",
          "name": "stderr",
          "text": [
            "[I 2023-12-05 20:16:18,572] Trial 89 finished with value: 0.8649971453667107 and parameters: {'learning_rate': 0.0012744481691084179, 'dropout_rate': 0.3827841234253628, 'num_layers': 3, 'n_nodes_layer_0': 102, 'n_nodes_layer_1': 117, 'n_nodes_layer_2': 85}. Best is trial 53 with value: 0.9224413702239789.\n"
          ]
        },
        {
          "output_type": "stream",
          "name": "stdout",
          "text": [
            "9/9 [==============================] - 0s 2ms/step\n",
            "9/9 [==============================] - 0s 2ms/step\n",
            "9/9 [==============================] - 0s 2ms/step\n",
            "9/9 [==============================] - 0s 2ms/step\n",
            "9/9 [==============================] - 0s 3ms/step\n"
          ]
        },
        {
          "output_type": "stream",
          "name": "stderr",
          "text": [
            "[I 2023-12-05 20:16:26,918] Trial 90 finished with value: 0.8890162494510321 and parameters: {'learning_rate': 0.0007270585457636798, 'dropout_rate': 0.4278778406631515, 'num_layers': 4, 'n_nodes_layer_0': 98, 'n_nodes_layer_1': 82, 'n_nodes_layer_2': 105, 'n_nodes_layer_3': 11}. Best is trial 53 with value: 0.9224413702239789.\n"
          ]
        },
        {
          "output_type": "stream",
          "name": "stdout",
          "text": [
            "9/9 [==============================] - 0s 3ms/step\n",
            "9/9 [==============================] - 0s 3ms/step\n",
            "9/9 [==============================] - 0s 2ms/step\n",
            "9/9 [==============================] - 0s 3ms/step\n",
            "9/9 [==============================] - 0s 3ms/step\n"
          ]
        },
        {
          "output_type": "stream",
          "name": "stderr",
          "text": [
            "[I 2023-12-05 20:16:38,161] Trial 91 finished with value: 0.8757768994290732 and parameters: {'learning_rate': 0.0017529681538784405, 'dropout_rate': 0.3647120745626726, 'num_layers': 4, 'n_nodes_layer_0': 112, 'n_nodes_layer_1': 97, 'n_nodes_layer_2': 58, 'n_nodes_layer_3': 23}. Best is trial 53 with value: 0.9224413702239789.\n"
          ]
        },
        {
          "output_type": "stream",
          "name": "stdout",
          "text": [
            "9/9 [==============================] - 0s 4ms/step\n",
            "9/9 [==============================] - 0s 2ms/step\n",
            "9/9 [==============================] - 0s 2ms/step\n",
            "9/9 [==============================] - 0s 2ms/step\n",
            "9/9 [==============================] - 0s 2ms/step\n"
          ]
        },
        {
          "output_type": "stream",
          "name": "stderr",
          "text": [
            "[I 2023-12-05 20:16:49,280] Trial 92 finished with value: 0.8889365393061045 and parameters: {'learning_rate': 0.0014963718712125238, 'dropout_rate': 0.40000369747788317, 'num_layers': 4, 'n_nodes_layer_0': 81, 'n_nodes_layer_1': 109, 'n_nodes_layer_2': 27, 'n_nodes_layer_3': 78}. Best is trial 53 with value: 0.9224413702239789.\n"
          ]
        },
        {
          "output_type": "stream",
          "name": "stdout",
          "text": [
            "9/9 [==============================] - 0s 3ms/step\n",
            "9/9 [==============================] - 0s 3ms/step\n",
            "9/9 [==============================] - 0s 3ms/step\n",
            "9/9 [==============================] - 0s 3ms/step\n",
            "9/9 [==============================] - 0s 3ms/step\n"
          ]
        },
        {
          "output_type": "stream",
          "name": "stderr",
          "text": [
            "[I 2023-12-05 20:17:00,007] Trial 93 finished with value: 0.88967325428195 and parameters: {'learning_rate': 0.002734132536106329, 'dropout_rate': 0.3497027042416485, 'num_layers': 4, 'n_nodes_layer_0': 119, 'n_nodes_layer_1': 100, 'n_nodes_layer_2': 99, 'n_nodes_layer_3': 59}. Best is trial 53 with value: 0.9224413702239789.\n"
          ]
        },
        {
          "output_type": "stream",
          "name": "stdout",
          "text": [
            "9/9 [==============================] - 0s 3ms/step\n",
            "9/9 [==============================] - 0s 2ms/step\n",
            "9/9 [==============================] - 0s 3ms/step\n",
            "9/9 [==============================] - 0s 4ms/step\n",
            "9/9 [==============================] - 0s 3ms/step\n"
          ]
        },
        {
          "output_type": "stream",
          "name": "stderr",
          "text": [
            "[I 2023-12-05 20:17:10,641] Trial 94 finished with value: 0.8470318401405358 and parameters: {'learning_rate': 0.0020987443361236034, 'dropout_rate': 0.38046362468473666, 'num_layers': 4, 'n_nodes_layer_0': 116, 'n_nodes_layer_1': 113, 'n_nodes_layer_2': 73, 'n_nodes_layer_3': 9}. Best is trial 53 with value: 0.9224413702239789.\n"
          ]
        },
        {
          "output_type": "stream",
          "name": "stdout",
          "text": [
            "9/9 [==============================] - 0s 2ms/step\n",
            "9/9 [==============================] - 0s 3ms/step\n",
            "9/9 [==============================] - 0s 3ms/step\n",
            "9/9 [==============================] - 0s 3ms/step\n",
            "9/9 [==============================] - 0s 2ms/step\n"
          ]
        },
        {
          "output_type": "stream",
          "name": "stderr",
          "text": [
            "[I 2023-12-05 20:17:19,122] Trial 95 finished with value: 0.9026361440491876 and parameters: {'learning_rate': 0.0010965069603161395, 'dropout_rate': 0.30025793099653175, 'num_layers': 3, 'n_nodes_layer_0': 105, 'n_nodes_layer_1': 118, 'n_nodes_layer_2': 46}. Best is trial 53 with value: 0.9224413702239789.\n"
          ]
        },
        {
          "output_type": "stream",
          "name": "stdout",
          "text": [
            "9/9 [==============================] - 0s 3ms/step\n",
            "9/9 [==============================] - 0s 3ms/step\n",
            "9/9 [==============================] - 0s 2ms/step\n",
            "9/9 [==============================] - 0s 3ms/step\n",
            "9/9 [==============================] - 0s 3ms/step\n"
          ]
        },
        {
          "output_type": "stream",
          "name": "stderr",
          "text": [
            "[I 2023-12-05 20:17:31,545] Trial 96 finished with value: 0.9098994290733421 and parameters: {'learning_rate': 0.0008270595214331548, 'dropout_rate': 0.41040047455782175, 'num_layers': 5, 'n_nodes_layer_0': 126, 'n_nodes_layer_1': 108, 'n_nodes_layer_2': 39, 'n_nodes_layer_3': 65, 'n_nodes_layer_4': 83}. Best is trial 53 with value: 0.9224413702239789.\n"
          ]
        },
        {
          "output_type": "stream",
          "name": "stdout",
          "text": [
            "9/9 [==============================] - 0s 4ms/step\n",
            "9/9 [==============================] - 0s 4ms/step\n",
            "9/9 [==============================] - 0s 3ms/step\n",
            "9/9 [==============================] - 0s 3ms/step\n",
            "9/9 [==============================] - 0s 3ms/step\n"
          ]
        },
        {
          "output_type": "stream",
          "name": "stderr",
          "text": [
            "[I 2023-12-05 20:17:45,796] Trial 97 finished with value: 0.8451440491875275 and parameters: {'learning_rate': 0.000794884918949371, 'dropout_rate': 0.4117316986138047, 'num_layers': 5, 'n_nodes_layer_0': 127, 'n_nodes_layer_1': 123, 'n_nodes_layer_2': 41, 'n_nodes_layer_3': 66, 'n_nodes_layer_4': 99}. Best is trial 53 with value: 0.9224413702239789.\n"
          ]
        },
        {
          "output_type": "stream",
          "name": "stdout",
          "text": [
            "9/9 [==============================] - 0s 3ms/step\n",
            "9/9 [==============================] - 0s 4ms/step\n",
            "9/9 [==============================] - 0s 3ms/step\n",
            "9/9 [==============================] - 0s 3ms/step\n",
            "9/9 [==============================] - 0s 3ms/step\n"
          ]
        },
        {
          "output_type": "stream",
          "name": "stderr",
          "text": [
            "[I 2023-12-05 20:18:00,176] Trial 98 finished with value: 0.915644927536232 and parameters: {'learning_rate': 0.0005887541782636937, 'dropout_rate': 0.45193477085952866, 'num_layers': 5, 'n_nodes_layer_0': 122, 'n_nodes_layer_1': 93, 'n_nodes_layer_2': 92, 'n_nodes_layer_3': 93, 'n_nodes_layer_4': 74}. Best is trial 53 with value: 0.9224413702239789.\n"
          ]
        },
        {
          "output_type": "stream",
          "name": "stdout",
          "text": [
            "9/9 [==============================] - 0s 4ms/step\n",
            "9/9 [==============================] - 0s 4ms/step\n",
            "9/9 [==============================] - 0s 3ms/step\n",
            "9/9 [==============================] - 0s 3ms/step\n",
            "9/9 [==============================] - 0s 3ms/step\n"
          ]
        },
        {
          "output_type": "stream",
          "name": "stderr",
          "text": [
            "[I 2023-12-05 20:18:13,019] Trial 99 finished with value: 0.8957811813790075 and parameters: {'learning_rate': 0.0008822118944616095, 'dropout_rate': 0.4537995104184701, 'num_layers': 5, 'n_nodes_layer_0': 125, 'n_nodes_layer_1': 93, 'n_nodes_layer_2': 92, 'n_nodes_layer_3': 92, 'n_nodes_layer_4': 73}. Best is trial 53 with value: 0.9224413702239789.\n"
          ]
        },
        {
          "output_type": "stream",
          "name": "stdout",
          "text": [
            "9/9 [==============================] - 2s 4ms/step\n",
            "9/9 [==============================] - 0s 3ms/step\n",
            "9/9 [==============================] - 0s 3ms/step\n",
            "9/9 [==============================] - 0s 3ms/step\n",
            "9/9 [==============================] - 0s 3ms/step\n"
          ]
        },
        {
          "output_type": "stream",
          "name": "stderr",
          "text": [
            "[I 2023-12-05 20:18:28,870] Trial 100 finished with value: 0.881419521299956 and parameters: {'learning_rate': 0.0004930825712428737, 'dropout_rate': 0.44132786015271513, 'num_layers': 5, 'n_nodes_layer_0': 122, 'n_nodes_layer_1': 87, 'n_nodes_layer_2': 28, 'n_nodes_layer_3': 105, 'n_nodes_layer_4': 96}. Best is trial 53 with value: 0.9224413702239789.\n"
          ]
        },
        {
          "output_type": "stream",
          "name": "stdout",
          "text": [
            "9/9 [==============================] - 0s 4ms/step\n",
            "9/9 [==============================] - 0s 3ms/step\n",
            "9/9 [==============================] - 0s 3ms/step\n",
            "9/9 [==============================] - 0s 3ms/step\n",
            "9/9 [==============================] - 0s 3ms/step\n"
          ]
        },
        {
          "output_type": "stream",
          "name": "stderr",
          "text": [
            "[I 2023-12-05 20:18:47,538] Trial 101 finished with value: 0.9107720685111989 and parameters: {'learning_rate': 0.0006384815103664712, 'dropout_rate': 0.3963695151396244, 'num_layers': 5, 'n_nodes_layer_0': 120, 'n_nodes_layer_1': 102, 'n_nodes_layer_2': 34, 'n_nodes_layer_3': 98, 'n_nodes_layer_4': 69}. Best is trial 53 with value: 0.9224413702239789.\n"
          ]
        },
        {
          "output_type": "stream",
          "name": "stdout",
          "text": [
            "9/9 [==============================] - 0s 3ms/step\n",
            "9/9 [==============================] - 0s 4ms/step\n",
            "9/9 [==============================] - 0s 4ms/step\n",
            "9/9 [==============================] - 0s 3ms/step\n",
            "9/9 [==============================] - 0s 3ms/step\n"
          ]
        },
        {
          "output_type": "stream",
          "name": "stderr",
          "text": [
            "[I 2023-12-05 20:19:01,289] Trial 102 finished with value: 0.8629220465524814 and parameters: {'learning_rate': 0.0005998931620242339, 'dropout_rate': 0.4202332312537147, 'num_layers': 5, 'n_nodes_layer_0': 120, 'n_nodes_layer_1': 96, 'n_nodes_layer_2': 31, 'n_nodes_layer_3': 98, 'n_nodes_layer_4': 71}. Best is trial 53 with value: 0.9224413702239789.\n"
          ]
        },
        {
          "output_type": "stream",
          "name": "stdout",
          "text": [
            "9/9 [==============================] - 0s 5ms/step\n",
            "9/9 [==============================] - 0s 3ms/step\n",
            "9/9 [==============================] - 0s 3ms/step\n",
            "9/9 [==============================] - 0s 5ms/step\n",
            "9/9 [==============================] - 0s 3ms/step\n"
          ]
        },
        {
          "output_type": "stream",
          "name": "stderr",
          "text": [
            "[I 2023-12-05 20:19:15,046] Trial 103 finished with value: 0.8680197628458497 and parameters: {'learning_rate': 0.0006664226910091043, 'dropout_rate': 0.3936758685715575, 'num_layers': 5, 'n_nodes_layer_0': 128, 'n_nodes_layer_1': 102, 'n_nodes_layer_2': 88, 'n_nodes_layer_3': 90, 'n_nodes_layer_4': 63}. Best is trial 53 with value: 0.9224413702239789.\n"
          ]
        },
        {
          "output_type": "stream",
          "name": "stdout",
          "text": [
            "9/9 [==============================] - 0s 3ms/step\n",
            "9/9 [==============================] - 0s 3ms/step\n",
            "9/9 [==============================] - 0s 3ms/step\n",
            "9/9 [==============================] - 0s 4ms/step\n",
            "9/9 [==============================] - 0s 3ms/step\n"
          ]
        },
        {
          "output_type": "stream",
          "name": "stderr",
          "text": [
            "[I 2023-12-05 20:19:29,250] Trial 104 finished with value: 0.8948111550285465 and parameters: {'learning_rate': 0.000768378674616515, 'dropout_rate': 0.42497501495535284, 'num_layers': 5, 'n_nodes_layer_0': 126, 'n_nodes_layer_1': 89, 'n_nodes_layer_2': 36, 'n_nodes_layer_3': 102, 'n_nodes_layer_4': 48}. Best is trial 53 with value: 0.9224413702239789.\n"
          ]
        },
        {
          "output_type": "stream",
          "name": "stdout",
          "text": [
            "9/9 [==============================] - 0s 4ms/step\n",
            "9/9 [==============================] - 0s 3ms/step\n",
            "9/9 [==============================] - 0s 3ms/step\n",
            "9/9 [==============================] - 0s 4ms/step\n",
            "9/9 [==============================] - 0s 3ms/step\n"
          ]
        },
        {
          "output_type": "stream",
          "name": "stderr",
          "text": [
            "[I 2023-12-05 20:19:43,102] Trial 105 finished with value: 0.8976038647342997 and parameters: {'learning_rate': 0.0005725700117786717, 'dropout_rate': 0.3725385098446375, 'num_layers': 5, 'n_nodes_layer_0': 123, 'n_nodes_layer_1': 108, 'n_nodes_layer_2': 17, 'n_nodes_layer_3': 81, 'n_nodes_layer_4': 82}. Best is trial 53 with value: 0.9224413702239789.\n"
          ]
        },
        {
          "output_type": "stream",
          "name": "stdout",
          "text": [
            "9/9 [==============================] - 0s 3ms/step\n",
            "9/9 [==============================] - 0s 3ms/step\n",
            "9/9 [==============================] - 0s 3ms/step\n",
            "9/9 [==============================] - 0s 3ms/step\n",
            "9/9 [==============================] - 0s 3ms/step\n"
          ]
        },
        {
          "output_type": "stream",
          "name": "stderr",
          "text": [
            "[I 2023-12-05 20:19:56,344] Trial 106 finished with value: 0.907435441370224 and parameters: {'learning_rate': 0.0009609600441563494, 'dropout_rate': 0.4340450804660963, 'num_layers': 5, 'n_nodes_layer_0': 118, 'n_nodes_layer_1': 104, 'n_nodes_layer_2': 96, 'n_nodes_layer_3': 86, 'n_nodes_layer_4': 74}. Best is trial 53 with value: 0.9224413702239789.\n"
          ]
        },
        {
          "output_type": "stream",
          "name": "stdout",
          "text": [
            "9/9 [==============================] - 0s 3ms/step\n",
            "9/9 [==============================] - 0s 3ms/step\n",
            "9/9 [==============================] - 0s 3ms/step\n",
            "9/9 [==============================] - 0s 4ms/step\n",
            "9/9 [==============================] - 0s 3ms/step\n"
          ]
        },
        {
          "output_type": "stream",
          "name": "stderr",
          "text": [
            "[I 2023-12-05 20:20:10,232] Trial 107 finished with value: 0.9087703118137901 and parameters: {'learning_rate': 0.0011963341857506038, 'dropout_rate': 0.3987699031618555, 'num_layers': 5, 'n_nodes_layer_0': 100, 'n_nodes_layer_1': 79, 'n_nodes_layer_2': 83, 'n_nodes_layer_3': 73, 'n_nodes_layer_4': 101}. Best is trial 53 with value: 0.9224413702239789.\n"
          ]
        },
        {
          "output_type": "stream",
          "name": "stdout",
          "text": [
            "9/9 [==============================] - 0s 2ms/step\n",
            "9/9 [==============================] - 0s 3ms/step\n",
            "9/9 [==============================] - 0s 3ms/step\n",
            "9/9 [==============================] - 0s 3ms/step\n",
            "9/9 [==============================] - 0s 5ms/step\n"
          ]
        },
        {
          "output_type": "stream",
          "name": "stderr",
          "text": [
            "[I 2023-12-05 20:20:22,922] Trial 108 finished with value: 0.9149725516029864 and parameters: {'learning_rate': 0.0011973526419205708, 'dropout_rate': 0.39092777196855705, 'num_layers': 5, 'n_nodes_layer_0': 92, 'n_nodes_layer_1': 77, 'n_nodes_layer_2': 81, 'n_nodes_layer_3': 73, 'n_nodes_layer_4': 106}. Best is trial 53 with value: 0.9224413702239789.\n"
          ]
        },
        {
          "output_type": "stream",
          "name": "stdout",
          "text": [
            "9/9 [==============================] - 0s 3ms/step\n",
            "9/9 [==============================] - 0s 3ms/step\n",
            "9/9 [==============================] - 0s 3ms/step\n",
            "9/9 [==============================] - 0s 3ms/step\n",
            "9/9 [==============================] - 0s 3ms/step\n"
          ]
        },
        {
          "output_type": "stream",
          "name": "stderr",
          "text": [
            "[I 2023-12-05 20:20:34,551] Trial 109 finished with value: 0.9113735177865614 and parameters: {'learning_rate': 0.00043712132643779347, 'dropout_rate': 0.38993839753688225, 'num_layers': 5, 'n_nodes_layer_0': 93, 'n_nodes_layer_1': 85, 'n_nodes_layer_2': 40, 'n_nodes_layer_3': 64, 'n_nodes_layer_4': 109}. Best is trial 53 with value: 0.9224413702239789.\n"
          ]
        },
        {
          "output_type": "stream",
          "name": "stdout",
          "text": [
            "9/9 [==============================] - 0s 3ms/step\n",
            "9/9 [==============================] - 0s 3ms/step\n",
            "9/9 [==============================] - 0s 3ms/step\n",
            "9/9 [==============================] - 0s 4ms/step\n",
            "9/9 [==============================] - 0s 3ms/step\n"
          ]
        },
        {
          "output_type": "stream",
          "name": "stderr",
          "text": [
            "[I 2023-12-05 20:20:46,695] Trial 110 finished with value: 0.896981774264383 and parameters: {'learning_rate': 0.0004358305840156044, 'dropout_rate': 0.3894959942302873, 'num_layers': 5, 'n_nodes_layer_0': 74, 'n_nodes_layer_1': 85, 'n_nodes_layer_2': 39, 'n_nodes_layer_3': 62, 'n_nodes_layer_4': 111}. Best is trial 53 with value: 0.9224413702239789.\n"
          ]
        },
        {
          "output_type": "stream",
          "name": "stdout",
          "text": [
            "9/9 [==============================] - 0s 5ms/step\n",
            "9/9 [==============================] - 0s 2ms/step\n",
            "9/9 [==============================] - 0s 3ms/step\n",
            "9/9 [==============================] - 0s 3ms/step\n",
            "9/9 [==============================] - 0s 3ms/step\n"
          ]
        },
        {
          "output_type": "stream",
          "name": "stderr",
          "text": [
            "[I 2023-12-05 20:20:59,210] Trial 111 finished with value: 0.9035779534475188 and parameters: {'learning_rate': 0.0005563233770446298, 'dropout_rate': 0.41194905867841153, 'num_layers': 5, 'n_nodes_layer_0': 94, 'n_nodes_layer_1': 71, 'n_nodes_layer_2': 35, 'n_nodes_layer_3': 77, 'n_nodes_layer_4': 111}. Best is trial 53 with value: 0.9224413702239789.\n"
          ]
        },
        {
          "output_type": "stream",
          "name": "stdout",
          "text": [
            "9/9 [==============================] - 0s 4ms/step\n",
            "9/9 [==============================] - 0s 3ms/step\n",
            "9/9 [==============================] - 0s 3ms/step\n",
            "9/9 [==============================] - 0s 3ms/step\n",
            "9/9 [==============================] - 0s 3ms/step\n"
          ]
        },
        {
          "output_type": "stream",
          "name": "stderr",
          "text": [
            "[I 2023-12-05 20:21:12,664] Trial 112 finished with value: 0.9006750109793588 and parameters: {'learning_rate': 0.0008345712835019081, 'dropout_rate': 0.3761646381750247, 'num_layers': 5, 'n_nodes_layer_0': 90, 'n_nodes_layer_1': 91, 'n_nodes_layer_2': 30, 'n_nodes_layer_3': 48, 'n_nodes_layer_4': 91}. Best is trial 53 with value: 0.9224413702239789.\n"
          ]
        },
        {
          "output_type": "stream",
          "name": "stdout",
          "text": [
            "9/9 [==============================] - 0s 3ms/step\n",
            "9/9 [==============================] - 0s 3ms/step\n",
            "9/9 [==============================] - 0s 3ms/step\n",
            "9/9 [==============================] - 0s 4ms/step\n",
            "9/9 [==============================] - 0s 3ms/step\n"
          ]
        },
        {
          "output_type": "stream",
          "name": "stderr",
          "text": [
            "[I 2023-12-05 20:21:27,533] Trial 113 finished with value: 0.8961223100570926 and parameters: {'learning_rate': 0.0006342131040144388, 'dropout_rate': 0.3567256442672939, 'num_layers': 5, 'n_nodes_layer_0': 84, 'n_nodes_layer_1': 84, 'n_nodes_layer_2': 42, 'n_nodes_layer_3': 68, 'n_nodes_layer_4': 79}. Best is trial 53 with value: 0.9224413702239789.\n"
          ]
        },
        {
          "output_type": "stream",
          "name": "stdout",
          "text": [
            "9/9 [==============================] - 0s 4ms/step\n",
            "9/9 [==============================] - 0s 3ms/step\n",
            "9/9 [==============================] - 0s 3ms/step\n",
            "9/9 [==============================] - 0s 4ms/step\n",
            "9/9 [==============================] - 0s 4ms/step\n"
          ]
        },
        {
          "output_type": "stream",
          "name": "stderr",
          "text": [
            "[I 2023-12-05 20:21:44,317] Trial 114 finished with value: 0.8924185331576636 and parameters: {'learning_rate': 0.000695419768137916, 'dropout_rate': 0.36268220291369613, 'num_layers': 5, 'n_nodes_layer_0': 91, 'n_nodes_layer_1': 76, 'n_nodes_layer_2': 79, 'n_nodes_layer_3': 59, 'n_nodes_layer_4': 109}. Best is trial 53 with value: 0.9224413702239789.\n"
          ]
        },
        {
          "output_type": "stream",
          "name": "stdout",
          "text": [
            "9/9 [==============================] - 0s 3ms/step\n",
            "9/9 [==============================] - 0s 3ms/step\n",
            "9/9 [==============================] - 0s 3ms/step\n",
            "9/9 [==============================] - 0s 3ms/step\n",
            "9/9 [==============================] - 0s 4ms/step\n"
          ]
        },
        {
          "output_type": "stream",
          "name": "stderr",
          "text": [
            "[I 2023-12-05 20:21:58,063] Trial 115 finished with value: 0.8717270531400967 and parameters: {'learning_rate': 0.00038051954783742555, 'dropout_rate': 0.38551063653945716, 'num_layers': 5, 'n_nodes_layer_0': 87, 'n_nodes_layer_1': 99, 'n_nodes_layer_2': 33, 'n_nodes_layer_3': 71, 'n_nodes_layer_4': 89}. Best is trial 53 with value: 0.9224413702239789.\n"
          ]
        },
        {
          "output_type": "stream",
          "name": "stdout",
          "text": [
            "9/9 [==============================] - 0s 3ms/step\n",
            "9/9 [==============================] - 0s 3ms/step\n",
            "9/9 [==============================] - 0s 3ms/step\n",
            "9/9 [==============================] - 0s 5ms/step\n",
            "9/9 [==============================] - 0s 4ms/step\n"
          ]
        },
        {
          "output_type": "stream",
          "name": "stderr",
          "text": [
            "[I 2023-12-05 20:22:12,909] Trial 116 finished with value: 0.916437637241985 and parameters: {'learning_rate': 0.0009915314560166996, 'dropout_rate': 0.4446581343005814, 'num_layers': 5, 'n_nodes_layer_0': 95, 'n_nodes_layer_1': 95, 'n_nodes_layer_2': 46, 'n_nodes_layer_3': 52, 'n_nodes_layer_4': 65}. Best is trial 53 with value: 0.9224413702239789.\n"
          ]
        },
        {
          "output_type": "stream",
          "name": "stdout",
          "text": [
            "9/9 [==============================] - 0s 3ms/step\n",
            "9/9 [==============================] - 0s 4ms/step\n",
            "9/9 [==============================] - 0s 3ms/step\n",
            "9/9 [==============================] - 0s 4ms/step\n",
            "9/9 [==============================] - 0s 3ms/step\n"
          ]
        },
        {
          "output_type": "stream",
          "name": "stderr",
          "text": [
            "[I 2023-12-05 20:22:28,423] Trial 117 finished with value: 0.8860035133948176 and parameters: {'learning_rate': 0.0004680810399047372, 'dropout_rate': 0.4724937614448387, 'num_layers': 5, 'n_nodes_layer_0': 88, 'n_nodes_layer_1': 81, 'n_nodes_layer_2': 45, 'n_nodes_layer_3': 63, 'n_nodes_layer_4': 66}. Best is trial 53 with value: 0.9224413702239789.\n"
          ]
        },
        {
          "output_type": "stream",
          "name": "stdout",
          "text": [
            "9/9 [==============================] - 0s 3ms/step\n",
            "9/9 [==============================] - 0s 2ms/step\n",
            "9/9 [==============================] - 0s 3ms/step\n",
            "9/9 [==============================] - 0s 4ms/step\n",
            "9/9 [==============================] - 0s 4ms/step\n"
          ]
        },
        {
          "output_type": "stream",
          "name": "stderr",
          "text": [
            "[I 2023-12-05 20:22:41,869] Trial 118 finished with value: 0.8752613087395696 and parameters: {'learning_rate': 0.0005469649397144758, 'dropout_rate': 0.4501708320594185, 'num_layers': 5, 'n_nodes_layer_0': 80, 'n_nodes_layer_1': 95, 'n_nodes_layer_2': 48, 'n_nodes_layer_3': 53, 'n_nodes_layer_4': 52}. Best is trial 53 with value: 0.9224413702239789.\n"
          ]
        },
        {
          "output_type": "stream",
          "name": "stdout",
          "text": [
            "9/9 [==============================] - 0s 3ms/step\n",
            "9/9 [==============================] - 0s 3ms/step\n",
            "9/9 [==============================] - 0s 4ms/step\n",
            "9/9 [==============================] - 0s 3ms/step\n",
            "9/9 [==============================] - 0s 3ms/step\n"
          ]
        },
        {
          "output_type": "stream",
          "name": "stderr",
          "text": [
            "[I 2023-12-05 20:22:58,272] Trial 119 finished with value: 0.9044938515590688 and parameters: {'learning_rate': 0.0009936856955376828, 'dropout_rate': 0.4347559645099892, 'num_layers': 5, 'n_nodes_layer_0': 94, 'n_nodes_layer_1': 86, 'n_nodes_layer_2': 23, 'n_nodes_layer_3': 79, 'n_nodes_layer_4': 22}. Best is trial 53 with value: 0.9224413702239789.\n"
          ]
        },
        {
          "output_type": "stream",
          "name": "stdout",
          "text": [
            "9/9 [==============================] - 0s 3ms/step\n",
            "9/9 [==============================] - 0s 5ms/step\n",
            "9/9 [==============================] - 0s 3ms/step\n",
            "9/9 [==============================] - 0s 3ms/step\n",
            "9/9 [==============================] - 0s 3ms/step\n"
          ]
        },
        {
          "output_type": "stream",
          "name": "stderr",
          "text": [
            "[I 2023-12-05 20:23:13,972] Trial 120 finished with value: 0.8871800614844092 and parameters: {'learning_rate': 0.0007345731012554133, 'dropout_rate': 0.4233840780866636, 'num_layers': 5, 'n_nodes_layer_0': 97, 'n_nodes_layer_1': 101, 'n_nodes_layer_2': 39, 'n_nodes_layer_3': 39, 'n_nodes_layer_4': 106}. Best is trial 53 with value: 0.9224413702239789.\n"
          ]
        },
        {
          "output_type": "stream",
          "name": "stdout",
          "text": [
            "9/9 [==============================] - 0s 2ms/step\n",
            "9/9 [==============================] - 0s 5ms/step\n",
            "9/9 [==============================] - 0s 3ms/step\n",
            "9/9 [==============================] - 0s 3ms/step\n",
            "9/9 [==============================] - 0s 3ms/step\n"
          ]
        },
        {
          "output_type": "stream",
          "name": "stderr",
          "text": [
            "[I 2023-12-05 20:23:27,741] Trial 121 finished with value: 0.9019762845849802 and parameters: {'learning_rate': 0.0011411712876964052, 'dropout_rate': 0.40621263188426465, 'num_layers': 5, 'n_nodes_layer_0': 100, 'n_nodes_layer_1': 91, 'n_nodes_layer_2': 92, 'n_nodes_layer_3': 56, 'n_nodes_layer_4': 118}. Best is trial 53 with value: 0.9224413702239789.\n"
          ]
        },
        {
          "output_type": "stream",
          "name": "stdout",
          "text": [
            "9/9 [==============================] - 0s 3ms/step\n",
            "9/9 [==============================] - 0s 3ms/step\n",
            "9/9 [==============================] - 0s 3ms/step\n",
            "9/9 [==============================] - 0s 3ms/step\n",
            "9/9 [==============================] - 0s 3ms/step\n"
          ]
        },
        {
          "output_type": "stream",
          "name": "stderr",
          "text": [
            "[I 2023-12-05 20:23:41,647] Trial 122 finished with value: 0.8767352876592007 and parameters: {'learning_rate': 0.000945769157200557, 'dropout_rate': 0.390377855852052, 'num_layers': 5, 'n_nodes_layer_0': 103, 'n_nodes_layer_1': 89, 'n_nodes_layer_2': 85, 'n_nodes_layer_3': 50, 'n_nodes_layer_4': 78}. Best is trial 53 with value: 0.9224413702239789.\n"
          ]
        },
        {
          "output_type": "stream",
          "name": "stdout",
          "text": [
            "9/9 [==============================] - 0s 3ms/step\n",
            "9/9 [==============================] - 0s 3ms/step\n",
            "9/9 [==============================] - 0s 3ms/step\n",
            "9/9 [==============================] - 0s 3ms/step\n",
            "9/9 [==============================] - 0s 3ms/step\n"
          ]
        },
        {
          "output_type": "stream",
          "name": "stderr",
          "text": [
            "[I 2023-12-05 20:23:56,953] Trial 123 finished with value: 0.9161337285902503 and parameters: {'learning_rate': 0.001389559559364231, 'dropout_rate': 0.4829429278727867, 'num_layers': 5, 'n_nodes_layer_0': 92, 'n_nodes_layer_1': 93, 'n_nodes_layer_2': 95, 'n_nodes_layer_3': 71, 'n_nodes_layer_4': 127}. Best is trial 53 with value: 0.9224413702239789.\n"
          ]
        },
        {
          "output_type": "stream",
          "name": "stdout",
          "text": [
            "9/9 [==============================] - 0s 4ms/step\n",
            "9/9 [==============================] - 0s 3ms/step\n",
            "9/9 [==============================] - 0s 3ms/step\n",
            "9/9 [==============================] - 0s 3ms/step\n",
            "9/9 [==============================] - 0s 3ms/step\n"
          ]
        },
        {
          "output_type": "stream",
          "name": "stderr",
          "text": [
            "[I 2023-12-05 20:24:10,606] Trial 124 finished with value: 0.883441370223979 and parameters: {'learning_rate': 0.001350807914919427, 'dropout_rate': 0.49733236639175915, 'num_layers': 5, 'n_nodes_layer_0': 85, 'n_nodes_layer_1': 98, 'n_nodes_layer_2': 25, 'n_nodes_layer_3': 75, 'n_nodes_layer_4': 125}. Best is trial 53 with value: 0.9224413702239789.\n"
          ]
        },
        {
          "output_type": "stream",
          "name": "stdout",
          "text": [
            "9/9 [==============================] - 0s 3ms/step\n",
            "9/9 [==============================] - 0s 2ms/step\n",
            "9/9 [==============================] - 0s 3ms/step\n",
            "9/9 [==============================] - 0s 4ms/step\n",
            "9/9 [==============================] - 0s 3ms/step\n"
          ]
        },
        {
          "output_type": "stream",
          "name": "stderr",
          "text": [
            "[I 2023-12-05 20:24:23,395] Trial 125 finished with value: 0.9302356170399648 and parameters: {'learning_rate': 0.000820246916837398, 'dropout_rate': 0.4620955750598387, 'num_layers': 5, 'n_nodes_layer_0': 78, 'n_nodes_layer_1': 94, 'n_nodes_layer_2': 98, 'n_nodes_layer_3': 71, 'n_nodes_layer_4': 117}. Best is trial 125 with value: 0.9302356170399648.\n"
          ]
        },
        {
          "output_type": "stream",
          "name": "stdout",
          "text": [
            "9/9 [==============================] - 0s 5ms/step\n",
            "9/9 [==============================] - 0s 5ms/step\n",
            "9/9 [==============================] - 0s 3ms/step\n",
            "9/9 [==============================] - 0s 3ms/step\n",
            "9/9 [==============================] - 0s 3ms/step\n"
          ]
        },
        {
          "output_type": "stream",
          "name": "stderr",
          "text": [
            "[I 2023-12-05 20:24:36,661] Trial 126 finished with value: 0.9197859025032938 and parameters: {'learning_rate': 0.0006492063251650554, 'dropout_rate': 0.46166402512541244, 'num_layers': 5, 'n_nodes_layer_0': 92, 'n_nodes_layer_1': 93, 'n_nodes_layer_2': 101, 'n_nodes_layer_3': 70, 'n_nodes_layer_4': 128}. Best is trial 125 with value: 0.9302356170399648.\n"
          ]
        },
        {
          "output_type": "stream",
          "name": "stdout",
          "text": [
            "9/9 [==============================] - 0s 5ms/step\n",
            "9/9 [==============================] - 0s 4ms/step\n",
            "9/9 [==============================] - 0s 3ms/step\n",
            "9/9 [==============================] - 0s 3ms/step\n",
            "9/9 [==============================] - 0s 3ms/step\n"
          ]
        },
        {
          "output_type": "stream",
          "name": "stderr",
          "text": [
            "[I 2023-12-05 20:24:51,161] Trial 127 finished with value: 0.8719793588054457 and parameters: {'learning_rate': 0.0006574886169575182, 'dropout_rate': 0.4827868336202586, 'num_layers': 5, 'n_nodes_layer_0': 76, 'n_nodes_layer_1': 94, 'n_nodes_layer_2': 102, 'n_nodes_layer_3': 71, 'n_nodes_layer_4': 128}. Best is trial 125 with value: 0.9302356170399648.\n"
          ]
        },
        {
          "output_type": "stream",
          "name": "stdout",
          "text": [
            "9/9 [==============================] - 0s 4ms/step\n",
            "9/9 [==============================] - 0s 4ms/step\n",
            "9/9 [==============================] - 0s 3ms/step\n",
            "9/9 [==============================] - 0s 3ms/step\n",
            "9/9 [==============================] - 0s 3ms/step\n"
          ]
        },
        {
          "output_type": "stream",
          "name": "stderr",
          "text": [
            "[I 2023-12-05 20:25:05,725] Trial 128 finished with value: 0.9251958717610892 and parameters: {'learning_rate': 0.00032786470588687687, 'dropout_rate': 0.4637807438160912, 'num_layers': 5, 'n_nodes_layer_0': 84, 'n_nodes_layer_1': 96, 'n_nodes_layer_2': 116, 'n_nodes_layer_3': 83, 'n_nodes_layer_4': 116}. Best is trial 125 with value: 0.9302356170399648.\n"
          ]
        },
        {
          "output_type": "stream",
          "name": "stdout",
          "text": [
            "9/9 [==============================] - 0s 4ms/step\n",
            "9/9 [==============================] - 0s 3ms/step\n",
            "9/9 [==============================] - 0s 3ms/step\n",
            "9/9 [==============================] - 0s 3ms/step\n",
            "9/9 [==============================] - 0s 3ms/step\n"
          ]
        },
        {
          "output_type": "stream",
          "name": "stderr",
          "text": [
            "[I 2023-12-05 20:25:19,392] Trial 129 finished with value: 0.8734694773825209 and parameters: {'learning_rate': 0.00034038550976437233, 'dropout_rate': 0.4636586217065933, 'num_layers': 5, 'n_nodes_layer_0': 78, 'n_nodes_layer_1': 95, 'n_nodes_layer_2': 112, 'n_nodes_layer_3': 84, 'n_nodes_layer_4': 117}. Best is trial 125 with value: 0.9302356170399648.\n"
          ]
        },
        {
          "output_type": "stream",
          "name": "stdout",
          "text": [
            "9/9 [==============================] - 0s 4ms/step\n",
            "9/9 [==============================] - 0s 4ms/step\n",
            "9/9 [==============================] - 0s 2ms/step\n",
            "9/9 [==============================] - 0s 3ms/step\n",
            "9/9 [==============================] - 0s 3ms/step\n"
          ]
        },
        {
          "output_type": "stream",
          "name": "stderr",
          "text": [
            "[I 2023-12-05 20:25:32,194] Trial 130 finished with value: 0.895009881422925 and parameters: {'learning_rate': 0.0004725155121841197, 'dropout_rate': 0.44778301956477545, 'num_layers': 5, 'n_nodes_layer_0': 82, 'n_nodes_layer_1': 98, 'n_nodes_layer_2': 115, 'n_nodes_layer_3': 89, 'n_nodes_layer_4': 114}. Best is trial 125 with value: 0.9302356170399648.\n"
          ]
        },
        {
          "output_type": "stream",
          "name": "stdout",
          "text": [
            "9/9 [==============================] - 0s 3ms/step\n",
            "9/9 [==============================] - 0s 3ms/step\n",
            "9/9 [==============================] - 0s 3ms/step\n",
            "9/9 [==============================] - 0s 3ms/step\n",
            "9/9 [==============================] - 0s 3ms/step\n"
          ]
        },
        {
          "output_type": "stream",
          "name": "stderr",
          "text": [
            "[I 2023-12-05 20:25:46,463] Trial 131 finished with value: 0.8407496706192358 and parameters: {'learning_rate': 0.00026784086014200275, 'dropout_rate': 0.4735378982464542, 'num_layers': 5, 'n_nodes_layer_0': 92, 'n_nodes_layer_1': 92, 'n_nodes_layer_2': 122, 'n_nodes_layer_3': 71, 'n_nodes_layer_4': 123}. Best is trial 125 with value: 0.9302356170399648.\n"
          ]
        },
        {
          "output_type": "stream",
          "name": "stdout",
          "text": [
            "9/9 [==============================] - 0s 4ms/step\n",
            "9/9 [==============================] - 0s 4ms/step\n",
            "9/9 [==============================] - 0s 3ms/step\n",
            "9/9 [==============================] - 0s 2ms/step\n",
            "9/9 [==============================] - 0s 3ms/step\n"
          ]
        },
        {
          "output_type": "stream",
          "name": "stderr",
          "text": [
            "[I 2023-12-05 20:26:00,845] Trial 132 finished with value: 0.8947626262626264 and parameters: {'learning_rate': 0.0004234007401632943, 'dropout_rate': 0.4597282941990794, 'num_layers': 5, 'n_nodes_layer_0': 86, 'n_nodes_layer_1': 102, 'n_nodes_layer_2': 105, 'n_nodes_layer_3': 82, 'n_nodes_layer_4': 128}. Best is trial 125 with value: 0.9302356170399648.\n"
          ]
        },
        {
          "output_type": "stream",
          "name": "stdout",
          "text": [
            "9/9 [==============================] - 0s 4ms/step\n",
            "9/9 [==============================] - 0s 3ms/step\n",
            "9/9 [==============================] - 0s 3ms/step\n",
            "9/9 [==============================] - 0s 3ms/step\n",
            "9/9 [==============================] - 0s 3ms/step\n"
          ]
        },
        {
          "output_type": "stream",
          "name": "stderr",
          "text": [
            "[I 2023-12-05 20:26:18,150] Trial 133 finished with value: 0.914707949055775 and parameters: {'learning_rate': 0.0012092244161498026, 'dropout_rate': 0.4561500804603511, 'num_layers': 5, 'n_nodes_layer_0': 83, 'n_nodes_layer_1': 88, 'n_nodes_layer_2': 100, 'n_nodes_layer_3': 76, 'n_nodes_layer_4': 117}. Best is trial 125 with value: 0.9302356170399648.\n"
          ]
        },
        {
          "output_type": "stream",
          "name": "stdout",
          "text": [
            "9/9 [==============================] - 0s 3ms/step\n",
            "9/9 [==============================] - 0s 4ms/step\n",
            "9/9 [==============================] - 0s 3ms/step\n",
            "9/9 [==============================] - 0s 3ms/step\n",
            "9/9 [==============================] - 0s 3ms/step\n"
          ]
        },
        {
          "output_type": "stream",
          "name": "stderr",
          "text": [
            "[I 2023-12-05 20:26:31,352] Trial 134 finished with value: 0.9104624505928853 and parameters: {'learning_rate': 0.0005951718903575621, 'dropout_rate': 0.4840787609144326, 'num_layers': 5, 'n_nodes_layer_0': 71, 'n_nodes_layer_1': 87, 'n_nodes_layer_2': 100, 'n_nodes_layer_3': 77, 'n_nodes_layer_4': 116}. Best is trial 125 with value: 0.9302356170399648.\n"
          ]
        },
        {
          "output_type": "stream",
          "name": "stdout",
          "text": [
            "9/9 [==============================] - 0s 3ms/step\n",
            "9/9 [==============================] - 0s 2ms/step\n",
            "9/9 [==============================] - 0s 3ms/step\n",
            "9/9 [==============================] - 0s 3ms/step\n",
            "9/9 [==============================] - 0s 3ms/step\n"
          ]
        },
        {
          "output_type": "stream",
          "name": "stderr",
          "text": [
            "[I 2023-12-05 20:26:45,017] Trial 135 finished with value: 0.887502195871761 and parameters: {'learning_rate': 0.0012288661127800593, 'dropout_rate': 0.45640187813754807, 'num_layers': 5, 'n_nodes_layer_0': 83, 'n_nodes_layer_1': 90, 'n_nodes_layer_2': 96, 'n_nodes_layer_3': 75, 'n_nodes_layer_4': 105}. Best is trial 125 with value: 0.9302356170399648.\n"
          ]
        },
        {
          "output_type": "stream",
          "name": "stdout",
          "text": [
            "9/9 [==============================] - 0s 3ms/step\n",
            "9/9 [==============================] - 0s 3ms/step\n",
            "9/9 [==============================] - 0s 3ms/step\n",
            "9/9 [==============================] - 0s 5ms/step\n",
            "9/9 [==============================] - 0s 3ms/step\n"
          ]
        },
        {
          "output_type": "stream",
          "name": "stderr",
          "text": [
            "[I 2023-12-05 20:26:58,572] Trial 136 finished with value: 0.9145311813790075 and parameters: {'learning_rate': 0.0005530992361733334, 'dropout_rate': 0.4393436375065465, 'num_layers': 5, 'n_nodes_layer_0': 90, 'n_nodes_layer_1': 96, 'n_nodes_layer_2': 104, 'n_nodes_layer_3': 69, 'n_nodes_layer_4': 120}. Best is trial 125 with value: 0.9302356170399648.\n"
          ]
        },
        {
          "output_type": "stream",
          "name": "stdout",
          "text": [
            "9/9 [==============================] - 0s 4ms/step\n",
            "9/9 [==============================] - 0s 3ms/step\n",
            "9/9 [==============================] - 0s 3ms/step\n",
            "9/9 [==============================] - 0s 3ms/step\n",
            "9/9 [==============================] - 0s 3ms/step\n"
          ]
        },
        {
          "output_type": "stream",
          "name": "stderr",
          "text": [
            "[I 2023-12-05 20:27:12,073] Trial 137 finished with value: 0.8961725955204216 and parameters: {'learning_rate': 0.0005318452610924982, 'dropout_rate': 0.44634241621940474, 'num_layers': 5, 'n_nodes_layer_0': 89, 'n_nodes_layer_1': 82, 'n_nodes_layer_2': 97, 'n_nodes_layer_3': 69, 'n_nodes_layer_4': 123}. Best is trial 125 with value: 0.9302356170399648.\n"
          ]
        },
        {
          "output_type": "stream",
          "name": "stdout",
          "text": [
            "9/9 [==============================] - 0s 3ms/step\n",
            "9/9 [==============================] - 0s 3ms/step\n",
            "9/9 [==============================] - 0s 5ms/step\n",
            "9/9 [==============================] - 0s 3ms/step\n",
            "9/9 [==============================] - 0s 4ms/step\n"
          ]
        },
        {
          "output_type": "stream",
          "name": "stderr",
          "text": [
            "[I 2023-12-05 20:27:27,871] Trial 138 finished with value: 0.9024031620553359 and parameters: {'learning_rate': 0.00030696893824850923, 'dropout_rate': 0.46511050419186256, 'num_layers': 5, 'n_nodes_layer_0': 66, 'n_nodes_layer_1': 79, 'n_nodes_layer_2': 107, 'n_nodes_layer_3': 68, 'n_nodes_layer_4': 120}. Best is trial 125 with value: 0.9302356170399648.\n"
          ]
        },
        {
          "output_type": "stream",
          "name": "stdout",
          "text": [
            "9/9 [==============================] - 0s 3ms/step\n",
            "9/9 [==============================] - 0s 3ms/step\n",
            "9/9 [==============================] - 0s 4ms/step\n",
            "9/9 [==============================] - 0s 4ms/step\n",
            "9/9 [==============================] - 0s 4ms/step\n"
          ]
        },
        {
          "output_type": "stream",
          "name": "stderr",
          "text": [
            "[I 2023-12-05 20:27:44,066] Trial 139 finished with value: 0.8436277997364954 and parameters: {'learning_rate': 0.005266924571742411, 'dropout_rate': 0.43857811738463104, 'num_layers': 5, 'n_nodes_layer_0': 93, 'n_nodes_layer_1': 93, 'n_nodes_layer_2': 104, 'n_nodes_layer_3': 74, 'n_nodes_layer_4': 114}. Best is trial 125 with value: 0.9302356170399648.\n"
          ]
        },
        {
          "output_type": "stream",
          "name": "stdout",
          "text": [
            "9/9 [==============================] - 0s 3ms/step\n",
            "9/9 [==============================] - 0s 2ms/step\n",
            "9/9 [==============================] - 0s 3ms/step\n",
            "9/9 [==============================] - 0s 4ms/step\n",
            "9/9 [==============================] - 0s 3ms/step\n"
          ]
        },
        {
          "output_type": "stream",
          "name": "stderr",
          "text": [
            "[I 2023-12-05 20:28:02,389] Trial 140 finished with value: 0.8779492753623188 and parameters: {'learning_rate': 0.0010320475912730506, 'dropout_rate': 0.45418129506904964, 'num_layers': 5, 'n_nodes_layer_0': 95, 'n_nodes_layer_1': 67, 'n_nodes_layer_2': 110, 'n_nodes_layer_3': 64, 'n_nodes_layer_4': 44}. Best is trial 125 with value: 0.9302356170399648.\n"
          ]
        },
        {
          "output_type": "stream",
          "name": "stdout",
          "text": [
            "9/9 [==============================] - 0s 3ms/step\n",
            "9/9 [==============================] - 0s 3ms/step\n",
            "9/9 [==============================] - 0s 3ms/step\n",
            "9/9 [==============================] - 0s 3ms/step\n",
            "9/9 [==============================] - 0s 3ms/step\n"
          ]
        },
        {
          "output_type": "stream",
          "name": "stderr",
          "text": [
            "[I 2023-12-05 20:28:17,927] Trial 141 finished with value: 0.8999451032059728 and parameters: {'learning_rate': 0.0007484493329115204, 'dropout_rate': 0.46994936997179265, 'num_layers': 5, 'n_nodes_layer_0': 90, 'n_nodes_layer_1': 96, 'n_nodes_layer_2': 99, 'n_nodes_layer_3': 61, 'n_nodes_layer_4': 121}. Best is trial 125 with value: 0.9302356170399648.\n"
          ]
        },
        {
          "output_type": "stream",
          "name": "stdout",
          "text": [
            "9/9 [==============================] - 0s 4ms/step\n",
            "9/9 [==============================] - 0s 3ms/step\n",
            "9/9 [==============================] - 0s 3ms/step\n",
            "9/9 [==============================] - 0s 3ms/step\n",
            "9/9 [==============================] - 0s 3ms/step\n"
          ]
        },
        {
          "output_type": "stream",
          "name": "stderr",
          "text": [
            "[I 2023-12-05 20:28:32,132] Trial 142 finished with value: 0.9001914800175669 and parameters: {'learning_rate': 0.0005202577236733434, 'dropout_rate': 0.47819661014361453, 'num_layers': 5, 'n_nodes_layer_0': 86, 'n_nodes_layer_1': 105, 'n_nodes_layer_2': 94, 'n_nodes_layer_3': 70, 'n_nodes_layer_4': 128}. Best is trial 125 with value: 0.9302356170399648.\n"
          ]
        },
        {
          "output_type": "stream",
          "name": "stdout",
          "text": [
            "9/9 [==============================] - 0s 5ms/step\n",
            "9/9 [==============================] - 0s 3ms/step\n",
            "9/9 [==============================] - 0s 3ms/step\n",
            "9/9 [==============================] - 0s 3ms/step\n",
            "9/9 [==============================] - 0s 4ms/step\n"
          ]
        },
        {
          "output_type": "stream",
          "name": "stderr",
          "text": [
            "[I 2023-12-05 20:28:45,636] Trial 143 finished with value: 0.9101080368906456 and parameters: {'learning_rate': 0.0003976852073386992, 'dropout_rate': 0.4455442105085243, 'num_layers': 5, 'n_nodes_layer_0': 97, 'n_nodes_layer_1': 99, 'n_nodes_layer_2': 94, 'n_nodes_layer_3': 94, 'n_nodes_layer_4': 60}. Best is trial 125 with value: 0.9302356170399648.\n"
          ]
        },
        {
          "output_type": "stream",
          "name": "stdout",
          "text": [
            "9/9 [==============================] - 0s 3ms/step\n",
            "9/9 [==============================] - 0s 3ms/step\n",
            "9/9 [==============================] - 0s 2ms/step\n",
            "9/9 [==============================] - 0s 3ms/step\n",
            "9/9 [==============================] - 0s 3ms/step\n"
          ]
        },
        {
          "output_type": "stream",
          "name": "stderr",
          "text": [
            "[I 2023-12-05 20:29:00,232] Trial 144 finished with value: 0.8679167764602548 and parameters: {'learning_rate': 0.0066389900341600324, 'dropout_rate': 0.4919092197504621, 'num_layers': 5, 'n_nodes_layer_0': 77, 'n_nodes_layer_1': 90, 'n_nodes_layer_2': 103, 'n_nodes_layer_3': 79, 'n_nodes_layer_4': 106}. Best is trial 125 with value: 0.9302356170399648.\n"
          ]
        },
        {
          "output_type": "stream",
          "name": "stdout",
          "text": [
            "9/9 [==============================] - 0s 4ms/step\n",
            "9/9 [==============================] - 0s 4ms/step\n",
            "9/9 [==============================] - 0s 3ms/step\n",
            "9/9 [==============================] - 0s 3ms/step\n",
            "9/9 [==============================] - 0s 3ms/step\n"
          ]
        },
        {
          "output_type": "stream",
          "name": "stderr",
          "text": [
            "[I 2023-12-05 20:29:14,851] Trial 145 finished with value: 0.9211890645586298 and parameters: {'learning_rate': 0.0006180710287647091, 'dropout_rate': 0.4842394060464329, 'num_layers': 5, 'n_nodes_layer_0': 80, 'n_nodes_layer_1': 96, 'n_nodes_layer_2': 88, 'n_nodes_layer_3': 85, 'n_nodes_layer_4': 16}. Best is trial 125 with value: 0.9302356170399648.\n"
          ]
        },
        {
          "output_type": "stream",
          "name": "stdout",
          "text": [
            "9/9 [==============================] - 0s 4ms/step\n",
            "9/9 [==============================] - 0s 3ms/step\n",
            "9/9 [==============================] - 0s 3ms/step\n",
            "9/9 [==============================] - 0s 3ms/step\n",
            "9/9 [==============================] - 0s 3ms/step\n"
          ]
        },
        {
          "output_type": "stream",
          "name": "stderr",
          "text": [
            "[I 2023-12-05 20:29:29,491] Trial 146 finished with value: 0.889701361440492 and parameters: {'learning_rate': 0.0007704561818523943, 'dropout_rate': 0.4865748340817948, 'num_layers': 5, 'n_nodes_layer_0': 81, 'n_nodes_layer_1': 94, 'n_nodes_layer_2': 88, 'n_nodes_layer_3': 86, 'n_nodes_layer_4': 25}. Best is trial 125 with value: 0.9302356170399648.\n"
          ]
        },
        {
          "output_type": "stream",
          "name": "stdout",
          "text": [
            "9/9 [==============================] - 0s 3ms/step\n",
            "9/9 [==============================] - 0s 3ms/step\n",
            "9/9 [==============================] - 0s 3ms/step\n",
            "9/9 [==============================] - 0s 3ms/step\n",
            "9/9 [==============================] - 0s 3ms/step\n"
          ]
        },
        {
          "output_type": "stream",
          "name": "stderr",
          "text": [
            "[I 2023-12-05 20:29:42,316] Trial 147 finished with value: 0.8791606280193236 and parameters: {'learning_rate': 0.0014821957586637717, 'dropout_rate': 0.47214852371174865, 'num_layers': 5, 'n_nodes_layer_0': 79, 'n_nodes_layer_1': 87, 'n_nodes_layer_2': 91, 'n_nodes_layer_3': 82, 'n_nodes_layer_4': 15}. Best is trial 125 with value: 0.9302356170399648.\n"
          ]
        },
        {
          "output_type": "stream",
          "name": "stdout",
          "text": [
            "9/9 [==============================] - 0s 3ms/step\n",
            "9/9 [==============================] - 0s 3ms/step\n",
            "9/9 [==============================] - 0s 3ms/step\n",
            "9/9 [==============================] - 0s 3ms/step\n",
            "9/9 [==============================] - 0s 5ms/step\n"
          ]
        },
        {
          "output_type": "stream",
          "name": "stderr",
          "text": [
            "[I 2023-12-05 20:29:59,286] Trial 148 finished with value: 0.8958113746157224 and parameters: {'learning_rate': 0.000866373379618827, 'dropout_rate': 0.49916714090939796, 'num_layers': 5, 'n_nodes_layer_0': 74, 'n_nodes_layer_1': 97, 'n_nodes_layer_2': 97, 'n_nodes_layer_3': 66, 'n_nodes_layer_4': 37}. Best is trial 125 with value: 0.9302356170399648.\n"
          ]
        },
        {
          "output_type": "stream",
          "name": "stdout",
          "text": [
            "9/9 [==============================] - 0s 3ms/step\n",
            "9/9 [==============================] - 0s 3ms/step\n",
            "9/9 [==============================] - 0s 4ms/step\n",
            "9/9 [==============================] - 0s 3ms/step\n",
            "9/9 [==============================] - 0s 3ms/step\n"
          ]
        },
        {
          "output_type": "stream",
          "name": "stderr",
          "text": [
            "[I 2023-12-05 20:30:10,866] Trial 149 finished with value: 0.8266409749670618 and parameters: {'learning_rate': 0.0010996890713348946, 'dropout_rate': 0.4628987398726083, 'num_layers': 1, 'n_nodes_layer_0': 84}. Best is trial 125 with value: 0.9302356170399648.\n"
          ]
        },
        {
          "output_type": "stream",
          "name": "stdout",
          "text": [
            "Epoch 1/10\n",
            "45/45 [==============================] - 2s 5ms/step - loss: 0.4458 - accuracy: 0.9033\n",
            "Epoch 2/10\n",
            "45/45 [==============================] - 0s 6ms/step - loss: 0.2135 - accuracy: 0.9590\n",
            "Epoch 3/10\n",
            "45/45 [==============================] - 0s 6ms/step - loss: 0.1299 - accuracy: 0.9638\n",
            "Epoch 4/10\n",
            "45/45 [==============================] - 0s 5ms/step - loss: 0.1132 - accuracy: 0.9687\n",
            "Epoch 5/10\n",
            "45/45 [==============================] - 0s 5ms/step - loss: 0.0987 - accuracy: 0.9743\n",
            "Epoch 6/10\n",
            "45/45 [==============================] - 0s 6ms/step - loss: 0.0855 - accuracy: 0.9757\n",
            "Epoch 7/10\n",
            "45/45 [==============================] - 0s 6ms/step - loss: 0.0747 - accuracy: 0.9784\n",
            "Epoch 8/10\n",
            "45/45 [==============================] - 0s 5ms/step - loss: 0.0702 - accuracy: 0.9812\n",
            "Epoch 9/10\n",
            "45/45 [==============================] - 0s 5ms/step - loss: 0.0657 - accuracy: 0.9784\n",
            "Epoch 10/10\n",
            "45/45 [==============================] - 0s 5ms/step - loss: 0.0621 - accuracy: 0.9777\n"
          ]
        },
        {
          "output_type": "stream",
          "name": "stderr",
          "text": [
            "/usr/local/lib/python3.10/dist-packages/keras/src/engine/training.py:3079: UserWarning: You are saving your model as an HDF5 file via `model.save()`. This file format is considered legacy. We recommend using instead the native Keras format, e.g. `model.save('my_model.keras')`.\n",
            "  saving_api.save_model(\n"
          ]
        },
        {
          "output_type": "stream",
          "name": "stdout",
          "text": [
            "18/18 [==============================] - 0s 2ms/step\n"
          ]
        }
      ]
    }
  ]
}